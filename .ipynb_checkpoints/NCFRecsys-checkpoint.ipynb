{
 "cells": [
  {
   "cell_type": "code",
   "execution_count": 2,
   "id": "1f15aa02-3c6a-433d-8b1a-66682c29360a",
   "metadata": {},
   "outputs": [],
   "source": [
    "import pandas as pd\n",
    "import numpy as np\n",
    "import matplotlib.pyplot as plt\n",
    "import seaborn as sns"
   ]
  },
  {
   "cell_type": "code",
   "execution_count": 3,
   "id": "c786ec39-69f6-4efc-bc0a-bce1a44c1e13",
   "metadata": {},
   "outputs": [],
   "source": [
    "df = pd.read_csv(\"u.data\",sep=\"\\t\",names = [\"user_id\",\"item_id\",\"rating\",\"timestamp\"])"
   ]
  },
  {
   "cell_type": "code",
   "execution_count": 4,
   "id": "e556c619-9530-4d9f-a86e-f14fca5e3383",
   "metadata": {},
   "outputs": [
    {
     "data": {
      "text/html": [
       "<div>\n",
       "<style scoped>\n",
       "    .dataframe tbody tr th:only-of-type {\n",
       "        vertical-align: middle;\n",
       "    }\n",
       "\n",
       "    .dataframe tbody tr th {\n",
       "        vertical-align: top;\n",
       "    }\n",
       "\n",
       "    .dataframe thead th {\n",
       "        text-align: right;\n",
       "    }\n",
       "</style>\n",
       "<table border=\"1\" class=\"dataframe\">\n",
       "  <thead>\n",
       "    <tr style=\"text-align: right;\">\n",
       "      <th></th>\n",
       "      <th>user_id</th>\n",
       "      <th>item_id</th>\n",
       "      <th>rating</th>\n",
       "      <th>timestamp</th>\n",
       "    </tr>\n",
       "  </thead>\n",
       "  <tbody>\n",
       "    <tr>\n",
       "      <th>0</th>\n",
       "      <td>196</td>\n",
       "      <td>242</td>\n",
       "      <td>3</td>\n",
       "      <td>881250949</td>\n",
       "    </tr>\n",
       "    <tr>\n",
       "      <th>1</th>\n",
       "      <td>186</td>\n",
       "      <td>302</td>\n",
       "      <td>3</td>\n",
       "      <td>891717742</td>\n",
       "    </tr>\n",
       "    <tr>\n",
       "      <th>2</th>\n",
       "      <td>22</td>\n",
       "      <td>377</td>\n",
       "      <td>1</td>\n",
       "      <td>878887116</td>\n",
       "    </tr>\n",
       "    <tr>\n",
       "      <th>3</th>\n",
       "      <td>244</td>\n",
       "      <td>51</td>\n",
       "      <td>2</td>\n",
       "      <td>880606923</td>\n",
       "    </tr>\n",
       "    <tr>\n",
       "      <th>4</th>\n",
       "      <td>166</td>\n",
       "      <td>346</td>\n",
       "      <td>1</td>\n",
       "      <td>886397596</td>\n",
       "    </tr>\n",
       "  </tbody>\n",
       "</table>\n",
       "</div>"
      ],
      "text/plain": [
       "   user_id  item_id  rating  timestamp\n",
       "0      196      242       3  881250949\n",
       "1      186      302       3  891717742\n",
       "2       22      377       1  878887116\n",
       "3      244       51       2  880606923\n",
       "4      166      346       1  886397596"
      ]
     },
     "execution_count": 4,
     "metadata": {},
     "output_type": "execute_result"
    }
   ],
   "source": [
    "df.head()"
   ]
  },
  {
   "cell_type": "code",
   "execution_count": 5,
   "id": "d3b4503b-c5f9-4852-84c1-adcdb5cbd32d",
   "metadata": {},
   "outputs": [
    {
     "data": {
      "text/html": [
       "<div>\n",
       "<style scoped>\n",
       "    .dataframe tbody tr th:only-of-type {\n",
       "        vertical-align: middle;\n",
       "    }\n",
       "\n",
       "    .dataframe tbody tr th {\n",
       "        vertical-align: top;\n",
       "    }\n",
       "\n",
       "    .dataframe thead th {\n",
       "        text-align: right;\n",
       "    }\n",
       "</style>\n",
       "<table border=\"1\" class=\"dataframe\">\n",
       "  <thead>\n",
       "    <tr style=\"text-align: right;\">\n",
       "      <th></th>\n",
       "      <th>user_id</th>\n",
       "      <th>item_id</th>\n",
       "      <th>rating</th>\n",
       "      <th>timestamp</th>\n",
       "    </tr>\n",
       "  </thead>\n",
       "  <tbody>\n",
       "    <tr>\n",
       "      <th>count</th>\n",
       "      <td>100000.00000</td>\n",
       "      <td>100000.000000</td>\n",
       "      <td>100000.000000</td>\n",
       "      <td>1.000000e+05</td>\n",
       "    </tr>\n",
       "    <tr>\n",
       "      <th>mean</th>\n",
       "      <td>462.48475</td>\n",
       "      <td>425.530130</td>\n",
       "      <td>3.529860</td>\n",
       "      <td>8.835289e+08</td>\n",
       "    </tr>\n",
       "    <tr>\n",
       "      <th>std</th>\n",
       "      <td>266.61442</td>\n",
       "      <td>330.798356</td>\n",
       "      <td>1.125674</td>\n",
       "      <td>5.343856e+06</td>\n",
       "    </tr>\n",
       "    <tr>\n",
       "      <th>min</th>\n",
       "      <td>1.00000</td>\n",
       "      <td>1.000000</td>\n",
       "      <td>1.000000</td>\n",
       "      <td>8.747247e+08</td>\n",
       "    </tr>\n",
       "    <tr>\n",
       "      <th>25%</th>\n",
       "      <td>254.00000</td>\n",
       "      <td>175.000000</td>\n",
       "      <td>3.000000</td>\n",
       "      <td>8.794487e+08</td>\n",
       "    </tr>\n",
       "    <tr>\n",
       "      <th>50%</th>\n",
       "      <td>447.00000</td>\n",
       "      <td>322.000000</td>\n",
       "      <td>4.000000</td>\n",
       "      <td>8.828269e+08</td>\n",
       "    </tr>\n",
       "    <tr>\n",
       "      <th>75%</th>\n",
       "      <td>682.00000</td>\n",
       "      <td>631.000000</td>\n",
       "      <td>4.000000</td>\n",
       "      <td>8.882600e+08</td>\n",
       "    </tr>\n",
       "    <tr>\n",
       "      <th>max</th>\n",
       "      <td>943.00000</td>\n",
       "      <td>1682.000000</td>\n",
       "      <td>5.000000</td>\n",
       "      <td>8.932866e+08</td>\n",
       "    </tr>\n",
       "  </tbody>\n",
       "</table>\n",
       "</div>"
      ],
      "text/plain": [
       "            user_id        item_id         rating     timestamp\n",
       "count  100000.00000  100000.000000  100000.000000  1.000000e+05\n",
       "mean      462.48475     425.530130       3.529860  8.835289e+08\n",
       "std       266.61442     330.798356       1.125674  5.343856e+06\n",
       "min         1.00000       1.000000       1.000000  8.747247e+08\n",
       "25%       254.00000     175.000000       3.000000  8.794487e+08\n",
       "50%       447.00000     322.000000       4.000000  8.828269e+08\n",
       "75%       682.00000     631.000000       4.000000  8.882600e+08\n",
       "max       943.00000    1682.000000       5.000000  8.932866e+08"
      ]
     },
     "execution_count": 5,
     "metadata": {},
     "output_type": "execute_result"
    }
   ],
   "source": [
    "df.describe()"
   ]
  },
  {
   "cell_type": "code",
   "execution_count": 6,
   "id": "e7e4a20f-9234-4bc7-88c1-ed0f0f28dd25",
   "metadata": {},
   "outputs": [
    {
     "name": "stdout",
     "output_type": "stream",
     "text": [
      "0    196\n",
      "1    186\n",
      "2     22\n",
      "3    244\n",
      "4    166\n",
      "5    298\n",
      "6    115\n",
      "7    253\n",
      "8    305\n",
      "9      6\n",
      "Name: user_id, dtype: int64\n"
     ]
    },
    {
     "data": {
      "image/png": "[encoded data removed]",
      "text/plain": [
       "<Figure size 640x480 with 1 Axes>"
      ]
     },
     "metadata": {},
     "output_type": "display_data"
    }
   ],
   "source": [
    "#ratings distribution\n",
    "df['rating'].hist(bins=5)\n",
    "\n",
    "print(df[\"user_id\"][:10])"
   ]
  },
  {
   "cell_type": "code",
   "execution_count": 7,
   "id": "30f5db1e-fc36-4870-af8a-cb1527666e6b",
   "metadata": {},
   "outputs": [
    {
     "data": {
      "text/plain": [
       "<Axes: >"
      ]
     },
     "execution_count": 7,
     "metadata": {},
     "output_type": "execute_result"
    },
    {
     "data": {
      "image/png": "[encoded data removed]",
      "text/plain": [
       "<Figure size 640x480 with 1 Axes>"
      ]
     },
     "metadata": {},
     "output_type": "display_data"
    }
   ],
   "source": [
    "# Interactions per user/item\n",
    "df['user_id'].value_counts().hist()\n",
    "df['item_id'].value_counts().hist()"
   ]
  },
  {
   "cell_type": "code",
   "execution_count": 8,
   "id": "e15a93c6-10f3-4c38-b134-977af8c2e871",
   "metadata": {},
   "outputs": [
    {
     "name": "stdout",
     "output_type": "stream",
     "text": [
      "Sparsity: 93.70%\n"
     ]
    }
   ],
   "source": [
    "# Sparsity\n",
    "n_users = df['user_id'].nunique()\n",
    "n_items = df['item_id'].nunique()\n",
    "sparsity = 1.0 - len(df) / (n_users * n_items)\n",
    "print(f\"Sparsity: {sparsity:.2%}\")"
   ]
  },
  {
   "cell_type": "code",
   "execution_count": 9,
   "id": "0905d266-f4de-4fe8-8489-2999f8ad207a",
   "metadata": {},
   "outputs": [
    {
     "name": "stdout",
     "output_type": "stream",
     "text": [
      "0        196\n",
      "1        186\n",
      "2         22\n",
      "3        244\n",
      "4        166\n",
      "        ... \n",
      "99995    880\n",
      "99996    716\n",
      "99997    276\n",
      "99998     13\n",
      "99999     12\n",
      "Name: user_id, Length: 100000, dtype: int64\n"
     ]
    }
   ],
   "source": [
    "print(df[\"user_id\"])"
   ]
  },
  {
   "cell_type": "code",
   "execution_count": 10,
   "id": "b034eb18-9f74-4998-ac96-2711ca7ad73b",
   "metadata": {},
   "outputs": [],
   "source": [
    "df[\"interactions\"] = (df[\"rating\"]>=4).astype(int) #regualarisation to handle the sparsity of the data. Ratings less than 4 is classified as 0 interaction"
   ]
  },
  {
   "cell_type": "code",
   "execution_count": 11,
   "id": "d4dba757-5109-48c0-a2f9-cd4d4d12710c",
   "metadata": {},
   "outputs": [
    {
     "data": {
      "text/html": [
       "<div>\n",
       "<style scoped>\n",
       "    .dataframe tbody tr th:only-of-type {\n",
       "        vertical-align: middle;\n",
       "    }\n",
       "\n",
       "    .dataframe tbody tr th {\n",
       "        vertical-align: top;\n",
       "    }\n",
       "\n",
       "    .dataframe thead th {\n",
       "        text-align: right;\n",
       "    }\n",
       "</style>\n",
       "<table border=\"1\" class=\"dataframe\">\n",
       "  <thead>\n",
       "    <tr style=\"text-align: right;\">\n",
       "      <th></th>\n",
       "      <th>user_id</th>\n",
       "      <th>item_id</th>\n",
       "      <th>rating</th>\n",
       "      <th>timestamp</th>\n",
       "      <th>interactions</th>\n",
       "    </tr>\n",
       "  </thead>\n",
       "  <tbody>\n",
       "    <tr>\n",
       "      <th>0</th>\n",
       "      <td>196</td>\n",
       "      <td>242</td>\n",
       "      <td>3</td>\n",
       "      <td>881250949</td>\n",
       "      <td>0</td>\n",
       "    </tr>\n",
       "    <tr>\n",
       "      <th>1</th>\n",
       "      <td>186</td>\n",
       "      <td>302</td>\n",
       "      <td>3</td>\n",
       "      <td>891717742</td>\n",
       "      <td>0</td>\n",
       "    </tr>\n",
       "    <tr>\n",
       "      <th>2</th>\n",
       "      <td>22</td>\n",
       "      <td>377</td>\n",
       "      <td>1</td>\n",
       "      <td>878887116</td>\n",
       "      <td>0</td>\n",
       "    </tr>\n",
       "    <tr>\n",
       "      <th>3</th>\n",
       "      <td>244</td>\n",
       "      <td>51</td>\n",
       "      <td>2</td>\n",
       "      <td>880606923</td>\n",
       "      <td>0</td>\n",
       "    </tr>\n",
       "    <tr>\n",
       "      <th>4</th>\n",
       "      <td>166</td>\n",
       "      <td>346</td>\n",
       "      <td>1</td>\n",
       "      <td>886397596</td>\n",
       "      <td>0</td>\n",
       "    </tr>\n",
       "  </tbody>\n",
       "</table>\n",
       "</div>"
      ],
      "text/plain": [
       "   user_id  item_id  rating  timestamp  interactions\n",
       "0      196      242       3  881250949             0\n",
       "1      186      302       3  891717742             0\n",
       "2       22      377       1  878887116             0\n",
       "3      244       51       2  880606923             0\n",
       "4      166      346       1  886397596             0"
      ]
     },
     "execution_count": 11,
     "metadata": {},
     "output_type": "execute_result"
    }
   ],
   "source": [
    "df.head()"
   ]
  },
  {
   "cell_type": "code",
   "execution_count": 12,
   "id": "5049375a-487d-46b9-9cdf-78ba222b7bce",
   "metadata": {},
   "outputs": [
    {
     "name": "stdout",
     "output_type": "stream",
     "text": [
      "[196  62 119 301 284 260  60 222  90  94 269 268  15  54 214 123 170 191\n",
      " 263 285  45  75 173 205 108 124 202 227 204 209 323 326  86 335 344 358\n",
      " 350 366 364 394 353 408 423 426 447 455 467 476 482 477 505 475 520 533\n",
      " 539 540 558 579 585 570 603 609 624 634 635 655 665 676 672 694 675 678\n",
      " 727 734 723 757 767 760 784 796 792 821 826 839 842 853 860 876 883 887\n",
      " 905 914 927 938 930]\n",
      "[ 242  257  392  246  304  432  288  416  366 1153  132  485  471  272\n",
      "  117  164  673   48  408  106  318 1018  133  520  357  160  134 1086\n",
      "  333  558  612  781   97   60  596  252  289  406  306   58  744 1099\n",
      "  292 1246  632  586  509  686   99  696  461  122  583  477  162  663\n",
      " 1178  875  737  747  283  949  335  316 1019 1350  657  778  904  207\n",
      "  886  581 1218  192  157  525  745  244  863 1263  983  361   63 1222\n",
      " 1315 1250  326  149 1324  689  636  958  481  266   74  887  270  925\n",
      "  811 1314  691 1082  434 1424  444  913  964 1210  788 1050  383  940\n",
      "  896 1500 1384  814 1123 1386  956  112  889 1054 1294 1529  388  822\n",
      " 1231 1056 1527  803 1457 1302 1273 1439 1533 1369 1174 1470 1505 1501\n",
      " 1550 1064 1363 1483 1290 1547 1204 1587 1514 1499 1255 1553 1623 1055\n",
      " 1145 1541 1233 1610 1452 1639 1658 1581 1634 1633 1551 1676 1625 1675\n",
      " 1630]\n"
     ]
    }
   ],
   "source": [
    "#function to map the userid idxs for re indexing.\n",
    "user_ids = df[\"user_id\"].unique()\n",
    "item_ids = df[\"item_id\"].unique()\n",
    "def mapping(data):\n",
    "    item_map = {}\n",
    "    for idx,uid in enumerate(data):\n",
    "        item_map[uid]=idx\n",
    "    return item_map\n",
    "\n",
    "\n",
    "\n",
    "print(user_ids[::10])\n",
    "print(item_ids[::10])"
   ]
  },
  {
   "cell_type": "code",
   "execution_count": 13,
   "id": "d55337c9-745f-4c84-9ebd-eaacaa4abad5",
   "metadata": {},
   "outputs": [],
   "source": [
    "user_id_map = mapping(user_ids)\n",
    "item_id_map = mapping(item_ids)    "
   ]
  },
  {
   "cell_type": "code",
   "execution_count": 14,
   "id": "ef2d7897-df8a-4d3e-9907-95943cfbefbf",
   "metadata": {},
   "outputs": [],
   "source": [
    "#convert the user/item ids into consecutive integers\n",
    "df[\"user_id_mapped\"] = df[\"user_id\"].map(user_id_map)\n",
    "df[\"item_id_mapped\"] = df[\"item_id\"].map(item_id_map) \n",
    "\n",
    "#this reindexing is important for keras embedding layers\n",
    "\n"
   ]
  },
  {
   "cell_type": "code",
   "execution_count": 15,
   "id": "095023c6-8478-4107-a7e7-ae47f2145a25",
   "metadata": {},
   "outputs": [
    {
     "data": {
      "text/html": [
       "<div>\n",
       "<style scoped>\n",
       "    .dataframe tbody tr th:only-of-type {\n",
       "        vertical-align: middle;\n",
       "    }\n",
       "\n",
       "    .dataframe tbody tr th {\n",
       "        vertical-align: top;\n",
       "    }\n",
       "\n",
       "    .dataframe thead th {\n",
       "        text-align: right;\n",
       "    }\n",
       "</style>\n",
       "<table border=\"1\" class=\"dataframe\">\n",
       "  <thead>\n",
       "    <tr style=\"text-align: right;\">\n",
       "      <th></th>\n",
       "      <th>user_id</th>\n",
       "      <th>item_id</th>\n",
       "      <th>rating</th>\n",
       "      <th>timestamp</th>\n",
       "      <th>interactions</th>\n",
       "      <th>user_id_mapped</th>\n",
       "      <th>item_id_mapped</th>\n",
       "    </tr>\n",
       "  </thead>\n",
       "  <tbody>\n",
       "    <tr>\n",
       "      <th>0</th>\n",
       "      <td>196</td>\n",
       "      <td>242</td>\n",
       "      <td>3</td>\n",
       "      <td>881250949</td>\n",
       "      <td>0</td>\n",
       "      <td>0</td>\n",
       "      <td>0</td>\n",
       "    </tr>\n",
       "    <tr>\n",
       "      <th>1</th>\n",
       "      <td>186</td>\n",
       "      <td>302</td>\n",
       "      <td>3</td>\n",
       "      <td>891717742</td>\n",
       "      <td>0</td>\n",
       "      <td>1</td>\n",
       "      <td>1</td>\n",
       "    </tr>\n",
       "    <tr>\n",
       "      <th>2</th>\n",
       "      <td>22</td>\n",
       "      <td>377</td>\n",
       "      <td>1</td>\n",
       "      <td>878887116</td>\n",
       "      <td>0</td>\n",
       "      <td>2</td>\n",
       "      <td>2</td>\n",
       "    </tr>\n",
       "    <tr>\n",
       "      <th>3</th>\n",
       "      <td>244</td>\n",
       "      <td>51</td>\n",
       "      <td>2</td>\n",
       "      <td>880606923</td>\n",
       "      <td>0</td>\n",
       "      <td>3</td>\n",
       "      <td>3</td>\n",
       "    </tr>\n",
       "    <tr>\n",
       "      <th>4</th>\n",
       "      <td>166</td>\n",
       "      <td>346</td>\n",
       "      <td>1</td>\n",
       "      <td>886397596</td>\n",
       "      <td>0</td>\n",
       "      <td>4</td>\n",
       "      <td>4</td>\n",
       "    </tr>\n",
       "  </tbody>\n",
       "</table>\n",
       "</div>"
      ],
      "text/plain": [
       "   user_id  item_id  rating  timestamp  interactions  user_id_mapped  \\\n",
       "0      196      242       3  881250949             0               0   \n",
       "1      186      302       3  891717742             0               1   \n",
       "2       22      377       1  878887116             0               2   \n",
       "3      244       51       2  880606923             0               3   \n",
       "4      166      346       1  886397596             0               4   \n",
       "\n",
       "   item_id_mapped  \n",
       "0               0  \n",
       "1               1  \n",
       "2               2  \n",
       "3               3  \n",
       "4               4  "
      ]
     },
     "execution_count": 15,
     "metadata": {},
     "output_type": "execute_result"
    }
   ],
   "source": [
    "df.head()"
   ]
  },
  {
   "cell_type": "code",
   "execution_count": 16,
   "id": "348c679f-6fde-4b41-8efd-daf544710dfb",
   "metadata": {},
   "outputs": [],
   "source": [
    "#drop the unneeded columns\n",
    "df_keras = df[[\"user_id_mapped\",\"item_id_mapped\",\"interactions\"]]"
   ]
  },
  {
   "cell_type": "code",
   "execution_count": 17,
   "id": "8fb0fe30-3582-4e49-8c0e-f0147a626eb3",
   "metadata": {},
   "outputs": [
    {
     "data": {
      "text/html": [
       "<div>\n",
       "<style scoped>\n",
       "    .dataframe tbody tr th:only-of-type {\n",
       "        vertical-align: middle;\n",
       "    }\n",
       "\n",
       "    .dataframe tbody tr th {\n",
       "        vertical-align: top;\n",
       "    }\n",
       "\n",
       "    .dataframe thead th {\n",
       "        text-align: right;\n",
       "    }\n",
       "</style>\n",
       "<table border=\"1\" class=\"dataframe\">\n",
       "  <thead>\n",
       "    <tr style=\"text-align: right;\">\n",
       "      <th></th>\n",
       "      <th>user_id_mapped</th>\n",
       "      <th>item_id_mapped</th>\n",
       "      <th>interactions</th>\n",
       "    </tr>\n",
       "  </thead>\n",
       "  <tbody>\n",
       "    <tr>\n",
       "      <th>0</th>\n",
       "      <td>0</td>\n",
       "      <td>0</td>\n",
       "      <td>0</td>\n",
       "    </tr>\n",
       "    <tr>\n",
       "      <th>1</th>\n",
       "      <td>1</td>\n",
       "      <td>1</td>\n",
       "      <td>0</td>\n",
       "    </tr>\n",
       "    <tr>\n",
       "      <th>2</th>\n",
       "      <td>2</td>\n",
       "      <td>2</td>\n",
       "      <td>0</td>\n",
       "    </tr>\n",
       "    <tr>\n",
       "      <th>3</th>\n",
       "      <td>3</td>\n",
       "      <td>3</td>\n",
       "      <td>0</td>\n",
       "    </tr>\n",
       "    <tr>\n",
       "      <th>4</th>\n",
       "      <td>4</td>\n",
       "      <td>4</td>\n",
       "      <td>0</td>\n",
       "    </tr>\n",
       "  </tbody>\n",
       "</table>\n",
       "</div>"
      ],
      "text/plain": [
       "   user_id_mapped  item_id_mapped  interactions\n",
       "0               0               0             0\n",
       "1               1               1             0\n",
       "2               2               2             0\n",
       "3               3               3             0\n",
       "4               4               4             0"
      ]
     },
     "execution_count": 17,
     "metadata": {},
     "output_type": "execute_result"
    }
   ],
   "source": [
    "df_keras.head()"
   ]
  },
  {
   "cell_type": "code",
   "execution_count": 18,
   "id": "9985a585-03af-480b-bd95-c0702fc961f6",
   "metadata": {},
   "outputs": [
    {
     "data": {
      "text/plain": [
       "(80000, 2)"
      ]
     },
     "execution_count": 18,
     "metadata": {},
     "output_type": "execute_result"
    }
   ],
   "source": [
    "from sklearn.model_selection import train_test_split\n",
    "X= df_keras[[\"user_id_mapped\",\"item_id_mapped\"]]\n",
    "y= df_keras[[\"interactions\"]]\n",
    "\n",
    "X_train, X_test, y_train, y_test = train_test_split(X, y, test_size=0.2, random_state=42)\n",
    "\n",
    "X_train.shape\n",
    "\n"
   ]
  },
  {
   "cell_type": "code",
   "execution_count": 19,
   "id": "1f597e21-238d-4820-9722-696685b83f7b",
   "metadata": {},
   "outputs": [
    {
     "name": "stdout",
     "output_type": "stream",
     "text": [
      "943\n",
      "1682\n"
     ]
    }
   ],
   "source": [
    "num_users = df_keras[\"user_id_mapped\"].nunique() #unique values are important for keras embeddings\n",
    "num_items = df[\"item_id_mapped\"].nunique()\n",
    "\n",
    "print(num_users)\n",
    "print(num_items)\n",
    "\n",
    "\n",
    "#the values of unique users and items shows that there are many non-unique user and items in this 1 million large dataset"
   ]
  },
  {
   "cell_type": "code",
   "execution_count": 20,
   "id": "fab67cef-16a0-4294-9842-97eaeff7e687",
   "metadata": {},
   "outputs": [
    {
     "name": "stdout",
     "output_type": "stream",
     "text": [
      "Model: \"model\"\n",
      "__________________________________________________________________________________________________\n",
      " Layer (type)                   Output Shape         Param #     Connected to                     \n",
      "==================================================================================================\n",
      " input_1 (InputLayer)           [(None, 1)]          0           []                               \n",
      "                                                                                                  \n",
      " input_2 (InputLayer)           [(None, 1)]          0           []                               \n",
      "                                                                                                  \n",
      " embedding_2 (Embedding)        (None, 1, 32)        30176       ['input_1[0][0]']                \n",
      "                                                                                                  \n",
      " embedding_3 (Embedding)        (None, 1, 32)        53824       ['input_2[0][0]']                \n",
      "                                                                                                  \n",
      " flatten_2 (Flatten)            (None, 32)           0           ['embedding_2[0][0]']            \n",
      "                                                                                                  \n",
      " flatten_3 (Flatten)            (None, 32)           0           ['embedding_3[0][0]']            \n",
      "                                                                                                  \n",
      " concatenate (Concatenate)      (None, 64)           0           ['flatten_2[0][0]',              \n",
      "                                                                  'flatten_3[0][0]']              \n",
      "                                                                                                  \n",
      " embedding (Embedding)          (None, 1, 32)        30176       ['input_1[0][0]']                \n",
      "                                                                                                  \n",
      " embedding_1 (Embedding)        (None, 1, 32)        53824       ['input_2[0][0]']                \n",
      "                                                                                                  \n",
      " dense (Dense)                  (None, 64)           4160        ['concatenate[0][0]']            \n",
      "                                                                                                  \n",
      " flatten (Flatten)              (None, 32)           0           ['embedding[0][0]']              \n",
      "                                                                                                  \n",
      " flatten_1 (Flatten)            (None, 32)           0           ['embedding_1[0][0]']            \n",
      "                                                                                                  \n",
      " dense_1 (Dense)                (None, 32)           2080        ['dense[0][0]']                  \n",
      "                                                                                                  \n",
      " multiply (Multiply)            (None, 32)           0           ['flatten[0][0]',                \n",
      "                                                                  'flatten_1[0][0]']              \n",
      "                                                                                                  \n",
      " dense_2 (Dense)                (None, 16)           528         ['dense_1[0][0]']                \n",
      "                                                                                                  \n",
      " concatenate_1 (Concatenate)    (None, 48)           0           ['multiply[0][0]',               \n",
      "                                                                  'dense_2[0][0]']                \n",
      "                                                                                                  \n",
      " dense_3 (Dense)                (None, 1)            49          ['concatenate_1[0][0]']          \n",
      "                                                                                                  \n",
      "==================================================================================================\n",
      "Total params: 174,817\n",
      "Trainable params: 174,817\n",
      "Non-trainable params: 0\n",
      "__________________________________________________________________________________________________\n"
     ]
    }
   ],
   "source": [
    "from keras.models import Model\n",
    "from keras.layers import Input,Embedding,Flatten, Multiply, Concatenate, Dense\n",
    "from keras.optimizers import Adam\n",
    "from keras.callbacks import EarlyStopping\n",
    "\n",
    "#inputs\n",
    "user_input = Input(shape=(1,))\n",
    "item_input = Input(shape=(1,))\n",
    "\n",
    "#embeddings\n",
    "embedding_dim = 32\n",
    "\n",
    "user_embedding_gmf = Embedding(num_users,embedding_dim)(user_input)\n",
    "item_embedding_gmf = Embedding(num_items,embedding_dim)(item_input)\n",
    "\n",
    "\n",
    "user_embedding_mlp = Embedding(num_users,embedding_dim)(user_input)\n",
    "item_embedding_mlp = Embedding(num_items,embedding_dim)(item_input)\n",
    "\n",
    "#flatten\n",
    "user_vec_gmf = Flatten()(user_embedding_gmf)\n",
    "item_vec_gmf = Flatten()(item_embedding_gmf)\n",
    "\n",
    "user_vec_mlp = Flatten()(user_embedding_mlp)\n",
    "item_vec_mlp = Flatten()(item_embedding_mlp)\n",
    "\n",
    "\n",
    "#gmf branch\n",
    "gmf = Multiply()([user_vec_gmf,item_vec_gmf])\n",
    "\n",
    "#MLP branch\n",
    "mlp = Concatenate()([user_vec_mlp, item_vec_mlp])\n",
    "mlp = Dense(64, activation='relu')(mlp)\n",
    "mlp = Dense(32, activation='relu')(mlp)\n",
    "mlp = Dense(16, activation='relu')(mlp)\n",
    "\n",
    "#neuMF\n",
    "neu = Concatenate()([gmf,mlp])\n",
    "output = Dense(1,activation=\"sigmoid\")(neu)\n",
    "\n",
    "model = Model(inputs=[user_input,item_input],outputs=output)\n",
    "\n",
    "early_stopping = EarlyStopping(\n",
    "    monitor=\"val_loss\",\n",
    "    min_delta=0,\n",
    "    patience=3,\n",
    "    verbose=1,\n",
    "    mode=\"auto\",\n",
    "    baseline=None,\n",
    "    restore_best_weights=True,\n",
    ")\n",
    "\n",
    "model.compile(loss=\"binary_crossentropy\",optimizer=Adam(learning_rate=0.001),metrics=[\"accuracy\"])\n",
    "model.summary()\n",
    "\n",
    "\n",
    "\n",
    "\n"
   ]
  },
  {
   "cell_type": "code",
   "execution_count": 21,
   "id": "dfb15909-0cbb-484c-bf09-175428992702",
   "metadata": {},
   "outputs": [
    {
     "name": "stdout",
     "output_type": "stream",
     "text": [
      "Model is: <keras.engine.functional.Functional object at 0x00000292F84FF040>\n",
      "Model is compiled: True\n"
     ]
    }
   ],
   "source": [
    "print(\"Model is:\", model)\n",
    "print(\"Model is compiled:\", hasattr(model, \"fit\"))"
   ]
  },
  {
   "cell_type": "code",
   "execution_count": 22,
   "id": "4b966a87-f576-4c59-abe0-f27f5328d22c",
   "metadata": {},
   "outputs": [
    {
     "name": "stdout",
     "output_type": "stream",
     "text": [
      "<class 'pandas.core.series.Series'> <class 'pandas.core.series.Series'>\n",
      "<class 'pandas.core.frame.DataFrame'>\n",
      "(80000,)\n",
      "(80000,)\n",
      "(80000, 1)\n",
      "75220    0\n",
      "48955    1\n",
      "44966    1\n",
      "13568    1\n",
      "92727    1\n",
      "        ..\n",
      "6265     0\n",
      "54886    1\n",
      "76820    0\n",
      "860      0\n",
      "15795    0\n",
      "Name: interactions, Length: 80000, dtype: int32\n"
     ]
    }
   ],
   "source": [
    "print(type(X_train[\"user_id_mapped\"]),type(X_train[\"item_id_mapped\"]))\n",
    "print(type(y_train))\n",
    "\n",
    "print(X_train[\"user_id_mapped\"].shape)\n",
    "print(X_train[\"item_id_mapped\"].shape)\n",
    "\n",
    "print(y_train.shape)\n",
    "#y_train = y_train.iloc[:,0].values - this only works for pandas series not for numpy arrays\n",
    "#y_test = y_test.iloc[:,0].values\n",
    "y_train = y_train.squeeze()\n",
    "y_test = y_test.squeeze()\n",
    "\n",
    "print(y_train)"
   ]
  },
  {
   "cell_type": "code",
   "execution_count": 23,
   "id": "b1f7c37f-e1ad-4cfb-bc34-2b8a9b2c0fdb",
   "metadata": {},
   "outputs": [
    {
     "name": "stdout",
     "output_type": "stream",
     "text": [
      "Epoch 1/20\n",
      "313/313 [==============================] - 9s 15ms/step - loss: 0.6066 - accuracy: 0.6632 - val_loss: 0.5686 - val_accuracy: 0.7034\n",
      "Epoch 2/20\n",
      "313/313 [==============================] - 4s 13ms/step - loss: 0.5488 - accuracy: 0.7205 - val_loss: 0.5586 - val_accuracy: 0.7081\n",
      "Epoch 3/20\n",
      "313/313 [==============================] - 4s 13ms/step - loss: 0.5251 - accuracy: 0.7376 - val_loss: 0.5544 - val_accuracy: 0.7135\n",
      "Epoch 4/20\n",
      "313/313 [==============================] - 4s 13ms/step - loss: 0.4761 - accuracy: 0.7765 - val_loss: 0.5532 - val_accuracy: 0.7125\n",
      "Epoch 5/20\n",
      "313/313 [==============================] - 4s 14ms/step - loss: 0.4104 - accuracy: 0.8238 - val_loss: 0.5666 - val_accuracy: 0.7095\n",
      "Epoch 6/20\n",
      "313/313 [==============================] - 4s 14ms/step - loss: 0.3477 - accuracy: 0.8623 - val_loss: 0.5905 - val_accuracy: 0.6987\n",
      "Epoch 7/20\n",
      "Restoring model weights from the end of the best epoch: 4. 0.2951 - accuracy: 0.8906\n",
      "313/313 [==============================] - 4s 13ms/step - loss: 0.2950 - accuracy: 0.8907 - val_loss: 0.6251 - val_accuracy: 0.6949\n",
      "Epoch 7: early stopping\n"
     ]
    }
   ],
   "source": [
    "history = model.fit(\n",
    "    [X_train['user_id_mapped'],X_train[\"item_id_mapped\"]],\n",
    "    y_train, \n",
    "    batch_size = 256, \n",
    "    epochs=20, \n",
    "    verbose =1,\n",
    "    validation_data = (\n",
    "    [X_test[\"user_id_mapped\"],X_test[\"item_id_mapped\"]],y_test),\n",
    "    callbacks = early_stopping)\n",
    "\n",
    "\n",
    "\n"
   ]
  },
  {
   "cell_type": "code",
   "execution_count": 24,
   "id": "518711fe-5817-46dd-a810-9e1a6c9c5cbe",
   "metadata": {},
   "outputs": [
    {
     "name": "stdout",
     "output_type": "stream",
     "text": [
      "625/625 [==============================] - 4s 6ms/step - loss: 0.5532 - accuracy: 0.7125\n",
      "Best Validation Loss: 0.5532, Accuracy: 0.7125\n"
     ]
    }
   ],
   "source": [
    "val_loss, val_acc = model.evaluate(\n",
    "    [X_test[\"user_id_mapped\"].values, X_test[\"item_id_mapped\"].values], y_test\n",
    ")\n",
    "print(f\"Best Validation Loss: {val_loss:.4f}, Accuracy: {val_acc:.4f}\")"
   ]
  },
  {
   "cell_type": "code",
   "execution_count": 25,
   "id": "3190ac09-8a3f-45b8-9bca-b11d0a30f36a",
   "metadata": {},
   "outputs": [
    {
     "data": {
      "text/html": [
       "<div>\n",
       "<style scoped>\n",
       "    .dataframe tbody tr th:only-of-type {\n",
       "        vertical-align: middle;\n",
       "    }\n",
       "\n",
       "    .dataframe tbody tr th {\n",
       "        vertical-align: top;\n",
       "    }\n",
       "\n",
       "    .dataframe thead th {\n",
       "        text-align: right;\n",
       "    }\n",
       "</style>\n",
       "<table border=\"1\" class=\"dataframe\">\n",
       "  <thead>\n",
       "    <tr style=\"text-align: right;\">\n",
       "      <th></th>\n",
       "      <th>user_id_mapped</th>\n",
       "      <th>item_id_mapped</th>\n",
       "      <th>interactions</th>\n",
       "    </tr>\n",
       "  </thead>\n",
       "  <tbody>\n",
       "    <tr>\n",
       "      <th>0</th>\n",
       "      <td>0</td>\n",
       "      <td>0</td>\n",
       "      <td>0</td>\n",
       "    </tr>\n",
       "    <tr>\n",
       "      <th>1</th>\n",
       "      <td>1</td>\n",
       "      <td>1</td>\n",
       "      <td>0</td>\n",
       "    </tr>\n",
       "    <tr>\n",
       "      <th>2</th>\n",
       "      <td>2</td>\n",
       "      <td>2</td>\n",
       "      <td>0</td>\n",
       "    </tr>\n",
       "    <tr>\n",
       "      <th>3</th>\n",
       "      <td>3</td>\n",
       "      <td>3</td>\n",
       "      <td>0</td>\n",
       "    </tr>\n",
       "    <tr>\n",
       "      <th>4</th>\n",
       "      <td>4</td>\n",
       "      <td>4</td>\n",
       "      <td>0</td>\n",
       "    </tr>\n",
       "  </tbody>\n",
       "</table>\n",
       "</div>"
      ],
      "text/plain": [
       "   user_id_mapped  item_id_mapped  interactions\n",
       "0               0               0             0\n",
       "1               1               1             0\n",
       "2               2               2             0\n",
       "3               3               3             0\n",
       "4               4               4             0"
      ]
     },
     "execution_count": 25,
     "metadata": {},
     "output_type": "execute_result"
    }
   ],
   "source": [
    "df_keras.head()"
   ]
  },
  {
   "cell_type": "code",
   "execution_count": 35,
   "id": "20870cf1-ef73-43c0-8760-9aa667960b3b",
   "metadata": {},
   "outputs": [
    {
     "name": "stdout",
     "output_type": "stream",
     "text": [
      "101\n",
      "66\n",
      "Predicted interaction score: 0.9076269\n"
     ]
    }
   ],
   "source": [
    "user_id = X_test.iloc[5][\"user_id_mapped\"]\n",
    "item_id = X_test.iloc[500][\"item_id_mapped\"]\n",
    "\n",
    "print(user_id)\n",
    "print(item_id)\n",
    "\n",
    "# Prepare model inputs as 2D arrays\n",
    "score = model.predict([np.array([[101]]), np.array([[item_id]])], verbose=0)\n",
    "\n",
    "print(\"Predicted interaction score:\", score[0][0])"
   ]
  },
  {
   "cell_type": "code",
   "execution_count": 27,
   "id": "8ca75473-19a1-43f8-8358-f23a4e601c45",
   "metadata": {},
   "outputs": [
    {
     "name": "stdout",
     "output_type": "stream",
     "text": [
      "items:  [   0    1    2 ... 1679 1680 1681]\n",
      "users: [101 101 101 ... 101 101 101]\n"
     ]
    }
   ],
   "source": [
    "all_items = df_keras[\"item_id_mapped\"].unique()\n",
    "print(\"items: \",all_items)\n",
    "user_input = np.full(len(all_items),user_id)\n",
    "print(\"users:\",user_input)\n",
    "item_input = all_items\n",
    "\n",
    "#reshape to num items\n",
    "user_input = user_input.reshape(-1,1) #keras requires 2d input\n",
    "item_input = user_input.reshape(-1,1)\n",
    "\n",
    "\n"
   ]
  },
  {
   "cell_type": "code",
   "execution_count": 51,
   "id": "6a865c75-d692-4f55-8fac-11a456af5234",
   "metadata": {},
   "outputs": [
    {
     "name": "stdout",
     "output_type": "stream",
     "text": [
      "[(1255, 0.96866846), (125, 0.96379906), (239, 0.9636026), (957, 0.95681745), (612, 0.9552633), (541, 0.9534165), (174, 0.9533398), (297, 0.94993657), (660, 0.9485832), (180, 0.9480331)]\n"
     ]
    }
   ],
   "source": [
    "def get_scored(user_):\n",
    "    all_items = df_keras[\"item_id_mapped\"].unique()\n",
    "    user_array = np.array([[user_]])\n",
    "    predictions_list = []\n",
    "    for item in all_items:\n",
    "        item_array = np.array([[item]])\n",
    "        predictions  = model.predict([user_array,item_array],verbose=0)[0][0] #the [0][0] to extract the scalar from the nparray\n",
    "        predictions_list.append((item,predictions))\n",
    "    top_n_predictions = sorted(predictions_list,key =lambda x:x[1], reverse=True)[:10]\n",
    "    return top_n_predictions\n",
    "\n",
    "\n",
    "\n",
    "print(get_scored(101))"
   ]
  },
  {
   "cell_type": "code",
   "execution_count": null,
   "id": "ce5323ec-d552-47b3-99b2-beefdeeeb437",
   "metadata": {},
   "outputs": [],
   "source": [
    "#map these ids back to the movie titles"
   ]
  },
  {
   "cell_type": "code",
   "execution_count": 38,
   "id": "860f8157-bffd-4a81-bb5a-b156e6e9f503",
   "metadata": {},
   "outputs": [
    {
     "data": {
      "text/html": [
       "<div>\n",
       "<style scoped>\n",
       "    .dataframe tbody tr th:only-of-type {\n",
       "        vertical-align: middle;\n",
       "    }\n",
       "\n",
       "    .dataframe tbody tr th {\n",
       "        vertical-align: top;\n",
       "    }\n",
       "\n",
       "    .dataframe thead th {\n",
       "        text-align: right;\n",
       "    }\n",
       "</style>\n",
       "<table border=\"1\" class=\"dataframe\">\n",
       "  <thead>\n",
       "    <tr style=\"text-align: right;\">\n",
       "      <th></th>\n",
       "      <th>user_id</th>\n",
       "      <th>item_id</th>\n",
       "      <th>rating</th>\n",
       "      <th>timestamp</th>\n",
       "      <th>interactions</th>\n",
       "      <th>user_id_mapped</th>\n",
       "      <th>item_id_mapped</th>\n",
       "    </tr>\n",
       "  </thead>\n",
       "  <tbody>\n",
       "    <tr>\n",
       "      <th>0</th>\n",
       "      <td>196</td>\n",
       "      <td>242</td>\n",
       "      <td>3</td>\n",
       "      <td>881250949</td>\n",
       "      <td>0</td>\n",
       "      <td>0</td>\n",
       "      <td>0</td>\n",
       "    </tr>\n",
       "    <tr>\n",
       "      <th>1</th>\n",
       "      <td>186</td>\n",
       "      <td>302</td>\n",
       "      <td>3</td>\n",
       "      <td>891717742</td>\n",
       "      <td>0</td>\n",
       "      <td>1</td>\n",
       "      <td>1</td>\n",
       "    </tr>\n",
       "    <tr>\n",
       "      <th>2</th>\n",
       "      <td>22</td>\n",
       "      <td>377</td>\n",
       "      <td>1</td>\n",
       "      <td>878887116</td>\n",
       "      <td>0</td>\n",
       "      <td>2</td>\n",
       "      <td>2</td>\n",
       "    </tr>\n",
       "    <tr>\n",
       "      <th>3</th>\n",
       "      <td>244</td>\n",
       "      <td>51</td>\n",
       "      <td>2</td>\n",
       "      <td>880606923</td>\n",
       "      <td>0</td>\n",
       "      <td>3</td>\n",
       "      <td>3</td>\n",
       "    </tr>\n",
       "    <tr>\n",
       "      <th>4</th>\n",
       "      <td>166</td>\n",
       "      <td>346</td>\n",
       "      <td>1</td>\n",
       "      <td>886397596</td>\n",
       "      <td>0</td>\n",
       "      <td>4</td>\n",
       "      <td>4</td>\n",
       "    </tr>\n",
       "  </tbody>\n",
       "</table>\n",
       "</div>"
      ],
      "text/plain": [
       "   user_id  item_id  rating  timestamp  interactions  user_id_mapped  \\\n",
       "0      196      242       3  881250949             0               0   \n",
       "1      186      302       3  891717742             0               1   \n",
       "2       22      377       1  878887116             0               2   \n",
       "3      244       51       2  880606923             0               3   \n",
       "4      166      346       1  886397596             0               4   \n",
       "\n",
       "   item_id_mapped  \n",
       "0               0  \n",
       "1               1  \n",
       "2               2  \n",
       "3               3  \n",
       "4               4  "
      ]
     },
     "execution_count": 38,
     "metadata": {},
     "output_type": "execute_result"
    }
   ],
   "source": [
    "df.head()"
   ]
  },
  {
   "cell_type": "code",
   "execution_count": 34,
   "id": "f3cbf7c1-7b52-49aa-a66a-aec2716466d1",
   "metadata": {},
   "outputs": [
    {
     "data": {
      "text/html": [
       "<div>\n",
       "<style scoped>\n",
       "    .dataframe tbody tr th:only-of-type {\n",
       "        vertical-align: middle;\n",
       "    }\n",
       "\n",
       "    .dataframe tbody tr th {\n",
       "        vertical-align: top;\n",
       "    }\n",
       "\n",
       "    .dataframe thead th {\n",
       "        text-align: right;\n",
       "    }\n",
       "</style>\n",
       "<table border=\"1\" class=\"dataframe\">\n",
       "  <thead>\n",
       "    <tr style=\"text-align: right;\">\n",
       "      <th></th>\n",
       "      <th>user_id</th>\n",
       "      <th>item_id</th>\n",
       "      <th>rating</th>\n",
       "      <th>interactions</th>\n",
       "      <th>user_id_mapped</th>\n",
       "      <th>item_id_mapped</th>\n",
       "    </tr>\n",
       "  </thead>\n",
       "  <tbody>\n",
       "    <tr>\n",
       "      <th>0</th>\n",
       "      <td>196</td>\n",
       "      <td>242</td>\n",
       "      <td>3</td>\n",
       "      <td>0</td>\n",
       "      <td>0</td>\n",
       "      <td>0</td>\n",
       "    </tr>\n",
       "    <tr>\n",
       "      <th>1</th>\n",
       "      <td>186</td>\n",
       "      <td>302</td>\n",
       "      <td>3</td>\n",
       "      <td>0</td>\n",
       "      <td>1</td>\n",
       "      <td>1</td>\n",
       "    </tr>\n",
       "    <tr>\n",
       "      <th>2</th>\n",
       "      <td>22</td>\n",
       "      <td>377</td>\n",
       "      <td>1</td>\n",
       "      <td>0</td>\n",
       "      <td>2</td>\n",
       "      <td>2</td>\n",
       "    </tr>\n",
       "    <tr>\n",
       "      <th>3</th>\n",
       "      <td>244</td>\n",
       "      <td>51</td>\n",
       "      <td>2</td>\n",
       "      <td>0</td>\n",
       "      <td>3</td>\n",
       "      <td>3</td>\n",
       "    </tr>\n",
       "    <tr>\n",
       "      <th>4</th>\n",
       "      <td>166</td>\n",
       "      <td>346</td>\n",
       "      <td>1</td>\n",
       "      <td>0</td>\n",
       "      <td>4</td>\n",
       "      <td>4</td>\n",
       "    </tr>\n",
       "  </tbody>\n",
       "</table>\n",
       "</div>"
      ],
      "text/plain": [
       "   user_id  item_id  rating  interactions  user_id_mapped  item_id_mapped\n",
       "0      196      242       3             0               0               0\n",
       "1      186      302       3             0               1               1\n",
       "2       22      377       1             0               2               2\n",
       "3      244       51       2             0               3               3\n",
       "4      166      346       1             0               4               4"
      ]
     },
     "execution_count": 34,
     "metadata": {},
     "output_type": "execute_result"
    }
   ],
   "source": [
    "df_test = df[[\"user_id\",\"item_id\",\"rating\",\"interactions\",\"user_id_mapped\",\"item_id_mapped\"]]\n",
    "df_test.head()\n"
   ]
  },
  {
   "cell_type": "code",
   "execution_count": null,
   "id": "54e154ad-7963-4253-8698-9c44e1701720",
   "metadata": {},
   "outputs": [],
   "source": []
  }
 ],
 "metadata": {
  "kernelspec": {
   "display_name": "Python (recsys)",
   "language": "python",
   "name": "recsys"
  },
  "language_info": {
   "codemirror_mode": {
    "name": "ipython",
    "version": 3
   },
   "file_extension": ".py",
   "mimetype": "text/x-python",
   "name": "python",
   "nbconvert_exporter": "python",
   "pygments_lexer": "ipython3",
   "version": "3.10.13"
  }
 },
 "nbformat": 4,
 "nbformat_minor": 5
}
