{
 "cells": [
  {
   "cell_type": "code",
   "execution_count": 202,
   "id": "1f15aa02-3c6a-433d-8b1a-66682c29360a",
   "metadata": {},
   "outputs": [],
   "source": [
    "import pandas as pd\n",
    "import numpy as np\n",
    "import matplotlib.pyplot as plt\n",
    "import seaborn as sns"
   ]
  },
  {
   "cell_type": "code",
   "execution_count": 203,
   "id": "c786ec39-69f6-4efc-bc0a-bce1a44c1e13",
   "metadata": {},
   "outputs": [],
   "source": [
    "#df = pd.read_csv(\"u.data\",sep=\"\\t\",names = [\"user_id\",\"item_id\",\"rating\",\"timestamp\"])\n",
    "\n",
    "\n",
    "df = pd.read_csv(\n",
    "    \"ratings.dat\", \n",
    "    sep=\"::\", \n",
    "    engine=\"python\", \n",
    "    encoding=\"ISO-8859-1\", \n",
    "    names=[\"user_id\", \"item_id\", \"rating\", \"timestamp\"]\n",
    ")"
   ]
  },
  {
   "cell_type": "code",
   "execution_count": 204,
   "id": "e556c619-9530-4d9f-a86e-f14fca5e3383",
   "metadata": {},
   "outputs": [
    {
     "data": {
      "text/html": [
       "<div>\n",
       "<style scoped>\n",
       "    .dataframe tbody tr th:only-of-type {\n",
       "        vertical-align: middle;\n",
       "    }\n",
       "\n",
       "    .dataframe tbody tr th {\n",
       "        vertical-align: top;\n",
       "    }\n",
       "\n",
       "    .dataframe thead th {\n",
       "        text-align: right;\n",
       "    }\n",
       "</style>\n",
       "<table border=\"1\" class=\"dataframe\">\n",
       "  <thead>\n",
       "    <tr style=\"text-align: right;\">\n",
       "      <th></th>\n",
       "      <th>user_id</th>\n",
       "      <th>item_id</th>\n",
       "      <th>rating</th>\n",
       "      <th>timestamp</th>\n",
       "    </tr>\n",
       "  </thead>\n",
       "  <tbody>\n",
       "    <tr>\n",
       "      <th>0</th>\n",
       "      <td>1</td>\n",
       "      <td>1193</td>\n",
       "      <td>5</td>\n",
       "      <td>978300760</td>\n",
       "    </tr>\n",
       "    <tr>\n",
       "      <th>1</th>\n",
       "      <td>1</td>\n",
       "      <td>661</td>\n",
       "      <td>3</td>\n",
       "      <td>978302109</td>\n",
       "    </tr>\n",
       "    <tr>\n",
       "      <th>2</th>\n",
       "      <td>1</td>\n",
       "      <td>914</td>\n",
       "      <td>3</td>\n",
       "      <td>978301968</td>\n",
       "    </tr>\n",
       "    <tr>\n",
       "      <th>3</th>\n",
       "      <td>1</td>\n",
       "      <td>3408</td>\n",
       "      <td>4</td>\n",
       "      <td>978300275</td>\n",
       "    </tr>\n",
       "    <tr>\n",
       "      <th>4</th>\n",
       "      <td>1</td>\n",
       "      <td>2355</td>\n",
       "      <td>5</td>\n",
       "      <td>978824291</td>\n",
       "    </tr>\n",
       "  </tbody>\n",
       "</table>\n",
       "</div>"
      ],
      "text/plain": [
       "   user_id  item_id  rating  timestamp\n",
       "0        1     1193       5  978300760\n",
       "1        1      661       3  978302109\n",
       "2        1      914       3  978301968\n",
       "3        1     3408       4  978300275\n",
       "4        1     2355       5  978824291"
      ]
     },
     "execution_count": 204,
     "metadata": {},
     "output_type": "execute_result"
    }
   ],
   "source": [
    "df.head()"
   ]
  },
  {
   "cell_type": "code",
   "execution_count": 205,
   "id": "d3b4503b-c5f9-4852-84c1-adcdb5cbd32d",
   "metadata": {},
   "outputs": [
    {
     "data": {
      "text/html": [
       "<div>\n",
       "<style scoped>\n",
       "    .dataframe tbody tr th:only-of-type {\n",
       "        vertical-align: middle;\n",
       "    }\n",
       "\n",
       "    .dataframe tbody tr th {\n",
       "        vertical-align: top;\n",
       "    }\n",
       "\n",
       "    .dataframe thead th {\n",
       "        text-align: right;\n",
       "    }\n",
       "</style>\n",
       "<table border=\"1\" class=\"dataframe\">\n",
       "  <thead>\n",
       "    <tr style=\"text-align: right;\">\n",
       "      <th></th>\n",
       "      <th>user_id</th>\n",
       "      <th>item_id</th>\n",
       "      <th>rating</th>\n",
       "      <th>timestamp</th>\n",
       "    </tr>\n",
       "  </thead>\n",
       "  <tbody>\n",
       "    <tr>\n",
       "      <th>count</th>\n",
       "      <td>1.000209e+06</td>\n",
       "      <td>1.000209e+06</td>\n",
       "      <td>1.000209e+06</td>\n",
       "      <td>1.000209e+06</td>\n",
       "    </tr>\n",
       "    <tr>\n",
       "      <th>mean</th>\n",
       "      <td>3.024512e+03</td>\n",
       "      <td>1.865540e+03</td>\n",
       "      <td>3.581564e+00</td>\n",
       "      <td>9.722437e+08</td>\n",
       "    </tr>\n",
       "    <tr>\n",
       "      <th>std</th>\n",
       "      <td>1.728413e+03</td>\n",
       "      <td>1.096041e+03</td>\n",
       "      <td>1.117102e+00</td>\n",
       "      <td>1.215256e+07</td>\n",
       "    </tr>\n",
       "    <tr>\n",
       "      <th>min</th>\n",
       "      <td>1.000000e+00</td>\n",
       "      <td>1.000000e+00</td>\n",
       "      <td>1.000000e+00</td>\n",
       "      <td>9.567039e+08</td>\n",
       "    </tr>\n",
       "    <tr>\n",
       "      <th>25%</th>\n",
       "      <td>1.506000e+03</td>\n",
       "      <td>1.030000e+03</td>\n",
       "      <td>3.000000e+00</td>\n",
       "      <td>9.653026e+08</td>\n",
       "    </tr>\n",
       "    <tr>\n",
       "      <th>50%</th>\n",
       "      <td>3.070000e+03</td>\n",
       "      <td>1.835000e+03</td>\n",
       "      <td>4.000000e+00</td>\n",
       "      <td>9.730180e+08</td>\n",
       "    </tr>\n",
       "    <tr>\n",
       "      <th>75%</th>\n",
       "      <td>4.476000e+03</td>\n",
       "      <td>2.770000e+03</td>\n",
       "      <td>4.000000e+00</td>\n",
       "      <td>9.752209e+08</td>\n",
       "    </tr>\n",
       "    <tr>\n",
       "      <th>max</th>\n",
       "      <td>6.040000e+03</td>\n",
       "      <td>3.952000e+03</td>\n",
       "      <td>5.000000e+00</td>\n",
       "      <td>1.046455e+09</td>\n",
       "    </tr>\n",
       "  </tbody>\n",
       "</table>\n",
       "</div>"
      ],
      "text/plain": [
       "            user_id       item_id        rating     timestamp\n",
       "count  1.000209e+06  1.000209e+06  1.000209e+06  1.000209e+06\n",
       "mean   3.024512e+03  1.865540e+03  3.581564e+00  9.722437e+08\n",
       "std    1.728413e+03  1.096041e+03  1.117102e+00  1.215256e+07\n",
       "min    1.000000e+00  1.000000e+00  1.000000e+00  9.567039e+08\n",
       "25%    1.506000e+03  1.030000e+03  3.000000e+00  9.653026e+08\n",
       "50%    3.070000e+03  1.835000e+03  4.000000e+00  9.730180e+08\n",
       "75%    4.476000e+03  2.770000e+03  4.000000e+00  9.752209e+08\n",
       "max    6.040000e+03  3.952000e+03  5.000000e+00  1.046455e+09"
      ]
     },
     "execution_count": 205,
     "metadata": {},
     "output_type": "execute_result"
    }
   ],
   "source": [
    "df.describe()"
   ]
  },
  {
   "cell_type": "code",
   "execution_count": 206,
   "id": "e7e4a20f-9234-4bc7-88c1-ed0f0f28dd25",
   "metadata": {},
   "outputs": [
    {
     "name": "stdout",
     "output_type": "stream",
     "text": [
      "0    1\n",
      "1    1\n",
      "2    1\n",
      "3    1\n",
      "4    1\n",
      "5    1\n",
      "6    1\n",
      "7    1\n",
      "8    1\n",
      "9    1\n",
      "Name: user_id, dtype: int64\n"
     ]
    },
    {
     "data": {
      "image/png": "[encoded data removed]",
      "text/plain": [
       "<Figure size 640x480 with 1 Axes>"
      ]
     },
     "metadata": {},
     "output_type": "display_data"
    }
   ],
   "source": [
    "#ratings distribution\n",
    "df['rating'].hist(bins=5)\n",
    "\n",
    "print(df[\"user_id\"][:10])"
   ]
  },
  {
   "cell_type": "code",
   "execution_count": 207,
   "id": "30f5db1e-fc36-4870-af8a-cb1527666e6b",
   "metadata": {},
   "outputs": [
    {
     "data": {
      "text/plain": [
       "<Axes: >"
      ]
     },
     "execution_count": 207,
     "metadata": {},
     "output_type": "execute_result"
    },
    {
     "data": {
      "image/png": "[encoded data removed]",
      "text/plain": [
       "<Figure size 640x480 with 1 Axes>"
      ]
     },
     "metadata": {},
     "output_type": "display_data"
    }
   ],
   "source": [
    "# Interactions per user/item\n",
    "df['user_id'].value_counts().hist()\n",
    "df['item_id'].value_counts().hist()"
   ]
  },
  {
   "cell_type": "code",
   "execution_count": 208,
   "id": "e15a93c6-10f3-4c38-b134-977af8c2e871",
   "metadata": {},
   "outputs": [
    {
     "name": "stdout",
     "output_type": "stream",
     "text": [
      "Sparsity: 95.53%\n"
     ]
    }
   ],
   "source": [
    "# Sparsity\n",
    "n_users = df['user_id'].nunique()\n",
    "n_items = df['item_id'].nunique()\n",
    "sparsity = 1.0 - len(df) / (n_users * n_items)\n",
    "print(f\"Sparsity: {sparsity:.2%}\")"
   ]
  },
  {
   "cell_type": "code",
   "execution_count": 209,
   "id": "0905d266-f4de-4fe8-8489-2999f8ad207a",
   "metadata": {},
   "outputs": [
    {
     "name": "stdout",
     "output_type": "stream",
     "text": [
      "0             1\n",
      "1             1\n",
      "2             1\n",
      "3             1\n",
      "4             1\n",
      "           ... \n",
      "1000204    6040\n",
      "1000205    6040\n",
      "1000206    6040\n",
      "1000207    6040\n",
      "1000208    6040\n",
      "Name: user_id, Length: 1000209, dtype: int64\n"
     ]
    }
   ],
   "source": [
    "print(df[\"user_id\"])"
   ]
  },
  {
   "cell_type": "code",
   "execution_count": 210,
   "id": "b034eb18-9f74-4998-ac96-2711ca7ad73b",
   "metadata": {},
   "outputs": [],
   "source": [
    "df[\"interactions\"] = (df[\"rating\"]>=4).astype(int) #regualarisation to handle the sparsity of the data. Ratings less than 4 is classified as 0 interaction"
   ]
  },
  {
   "cell_type": "code",
   "execution_count": 211,
   "id": "d4dba757-5109-48c0-a2f9-cd4d4d12710c",
   "metadata": {},
   "outputs": [
    {
     "data": {
      "text/html": [
       "<div>\n",
       "<style scoped>\n",
       "    .dataframe tbody tr th:only-of-type {\n",
       "        vertical-align: middle;\n",
       "    }\n",
       "\n",
       "    .dataframe tbody tr th {\n",
       "        vertical-align: top;\n",
       "    }\n",
       "\n",
       "    .dataframe thead th {\n",
       "        text-align: right;\n",
       "    }\n",
       "</style>\n",
       "<table border=\"1\" class=\"dataframe\">\n",
       "  <thead>\n",
       "    <tr style=\"text-align: right;\">\n",
       "      <th></th>\n",
       "      <th>user_id</th>\n",
       "      <th>item_id</th>\n",
       "      <th>rating</th>\n",
       "      <th>timestamp</th>\n",
       "      <th>interactions</th>\n",
       "    </tr>\n",
       "  </thead>\n",
       "  <tbody>\n",
       "    <tr>\n",
       "      <th>0</th>\n",
       "      <td>1</td>\n",
       "      <td>1193</td>\n",
       "      <td>5</td>\n",
       "      <td>978300760</td>\n",
       "      <td>1</td>\n",
       "    </tr>\n",
       "    <tr>\n",
       "      <th>1</th>\n",
       "      <td>1</td>\n",
       "      <td>661</td>\n",
       "      <td>3</td>\n",
       "      <td>978302109</td>\n",
       "      <td>0</td>\n",
       "    </tr>\n",
       "    <tr>\n",
       "      <th>2</th>\n",
       "      <td>1</td>\n",
       "      <td>914</td>\n",
       "      <td>3</td>\n",
       "      <td>978301968</td>\n",
       "      <td>0</td>\n",
       "    </tr>\n",
       "    <tr>\n",
       "      <th>3</th>\n",
       "      <td>1</td>\n",
       "      <td>3408</td>\n",
       "      <td>4</td>\n",
       "      <td>978300275</td>\n",
       "      <td>1</td>\n",
       "    </tr>\n",
       "    <tr>\n",
       "      <th>4</th>\n",
       "      <td>1</td>\n",
       "      <td>2355</td>\n",
       "      <td>5</td>\n",
       "      <td>978824291</td>\n",
       "      <td>1</td>\n",
       "    </tr>\n",
       "  </tbody>\n",
       "</table>\n",
       "</div>"
      ],
      "text/plain": [
       "   user_id  item_id  rating  timestamp  interactions\n",
       "0        1     1193       5  978300760             1\n",
       "1        1      661       3  978302109             0\n",
       "2        1      914       3  978301968             0\n",
       "3        1     3408       4  978300275             1\n",
       "4        1     2355       5  978824291             1"
      ]
     },
     "execution_count": 211,
     "metadata": {},
     "output_type": "execute_result"
    }
   ],
   "source": [
    "df.head()"
   ]
  },
  {
   "cell_type": "code",
   "execution_count": 212,
   "id": "5049375a-487d-46b9-9cdf-78ba222b7bce",
   "metadata": {},
   "outputs": [
    {
     "name": "stdout",
     "output_type": "stream",
     "text": [
      "[   1   11   21   31   41   51   61   71   81   91  101  111  121  131\n",
      "  141  151  161  171  181  191  201  211  221  231  241  251  261  271\n",
      "  281  291  301  311  321  331  341  351  361  371  381  391  401  411\n",
      "  421  431  441  451  461  471  481  491  501  511  521  531  541  551\n",
      "  561  571  581  591  601  611  621  631  641  651  661  671  681  691\n",
      "  701  711  721  731  741  751  761  771  781  791  801  811  821  831\n",
      "  841  851  861  871  881  891  901  911  921  931  941  951  961  971\n",
      "  981  991 1001 1011 1021 1031 1041 1051 1061 1071 1081 1091 1101 1111\n",
      " 1121 1131 1141 1151 1161 1171 1181 1191 1201 1211 1221 1231 1241 1251\n",
      " 1261 1271 1281 1291 1301 1311 1321 1331 1341 1351 1361 1371 1381 1391\n",
      " 1401 1411 1421 1431 1441 1451 1461 1471 1481 1491 1501 1511 1521 1531\n",
      " 1541 1551 1561 1571 1581 1591 1601 1611 1621 1631 1641 1651 1661 1671\n",
      " 1681 1691 1701 1711 1721 1731 1741 1751 1761 1771 1781 1791 1801 1811\n",
      " 1821 1831 1841 1851 1861 1871 1881 1891 1901 1911 1921 1931 1941 1951\n",
      " 1961 1971 1981 1991 2001 2011 2021 2031 2041 2051 2061 2071 2081 2091\n",
      " 2101 2111 2121 2131 2141 2151 2161 2171 2181 2191 2201 2211 2221 2231\n",
      " 2241 2251 2261 2271 2281 2291 2301 2311 2321 2331 2341 2351 2361 2371\n",
      " 2381 2391 2401 2411 2421 2431 2441 2451 2461 2471 2481 2491 2501 2511\n",
      " 2521 2531 2541 2551 2561 2571 2581 2591 2601 2611 2621 2631 2641 2651\n",
      " 2661 2671 2681 2691 2701 2711 2721 2731 2741 2751 2761 2771 2781 2791\n",
      " 2801 2811 2821 2831 2841 2851 2861 2871 2881 2891 2901 2911 2921 2931\n",
      " 2941 2951 2961 2971 2981 2991 3001 3011 3021 3031 3041 3051 3061 3071\n",
      " 3081 3091 3101 3111 3121 3131 3141 3151 3161 3171 3181 3191 3201 3211\n",
      " 3221 3231 3241 3251 3261 3271 3281 3291 3301 3311 3321 3331 3341 3351\n",
      " 3361 3371 3381 3391 3401 3411 3421 3431 3441 3451 3461 3471 3481 3491\n",
      " 3501 3511 3521 3531 3541 3551 3561 3571 3581 3591 3601 3611 3621 3631\n",
      " 3641 3651 3661 3671 3681 3691 3701 3711 3721 3731 3741 3751 3761 3771\n",
      " 3781 3791 3801 3811 3821 3831 3841 3851 3861 3871 3881 3891 3901 3911\n",
      " 3921 3931 3941 3951 3961 3971 3981 3991 4001 4011 4021 4031 4041 4051\n",
      " 4061 4071 4081 4091 4101 4111 4121 4131 4141 4151 4161 4171 4181 4191\n",
      " 4201 4211 4221 4231 4241 4251 4261 4271 4281 4291 4301 4311 4321 4331\n",
      " 4341 4351 4361 4371 4381 4391 4401 4411 4421 4431 4441 4451 4461 4471\n",
      " 4481 4491 4501 4511 4521 4531 4541 4551 4561 4571 4581 4591 4601 4611\n",
      " 4621 4631 4641 4651 4661 4671 4681 4691 4701 4711 4721 4731 4741 4751\n",
      " 4761 4771 4781 4791 4801 4811 4821 4831 4841 4851 4861 4871 4881 4891\n",
      " 4901 4911 4921 4931 4941 4951 4961 4971 4981 4991 5001 5011 5021 5031\n",
      " 5041 5051 5061 5071 5081 5091 5101 5111 5121 5131 5141 5151 5161 5171\n",
      " 5181 5191 5201 5211 5221 5231 5241 5251 5261 5271 5281 5291 5301 5311\n",
      " 5321 5331 5341 5351 5361 5371 5381 5391 5401 5411 5421 5431 5441 5451\n",
      " 5461 5471 5481 5491 5501 5511 5521 5531 5541 5551 5561 5571 5581 5591\n",
      " 5601 5611 5621 5631 5641 5651 5661 5671 5681 5691 5701 5711 5721 5731\n",
      " 5741 5751 5761 5771 5781 5791 5801 5811 5821 5831 5841 5851 5861 5871\n",
      " 5881 5891 5901 5911 5921 5931 5941 5951 5961 5971 5981 5991 6001 6011\n",
      " 6021 6031]\n",
      "[1193  595 2321 2294    1 3114 2628 3030 2236 3256 2852 1408 2353   95\n",
      " 1955  349  780 1244 2735 3619 2470 1036 1175 1684 2058 2560   52 3514\n",
      " 1704 1923 1429  321 1650  194 3409 2395 3051  202 3786  364 1569 3610\n",
      "  912  861 3213    4 1120 1639 3173   14 2686 1678  300 3178 1446  428\n",
      " 1254 3296 2137 1918 1278 1283 3034 2094 2316 1012  277 1023 1031 2424\n",
      " 3668 3812 2872 2371 1215 1583 3264 1234 3928 2710 2598 2335 3182  813\n",
      " 2641  517 3354 2485 2724 1883  500 1644 1804 2568 2856 1185 1284  198\n",
      " 3576 2288  610 2613 2123 2718 3889 3397  262 1960  940 2014 2893 3930\n",
      " 2064 1350 2195 2502 1655 3774  818  185 3052 3210 1205 2478 1267 2808\n",
      "  911 1965 3740 3770  303 2352 3423 3506 2146  694  276 3130 2269  511\n",
      "  381  463  612 3331 2473 2186  901 1785 2534 2544 2747  957 3429 2637\n",
      " 1348 3110 1464 2867 3693 3271 2379 3871 2238 2331 3320 3852 3480 1616\n",
      " 1353 2772 2430 1924 3758 1952 2461 2491 2738 1453 2415 2443  633 1970\n",
      " 3677 1526 1752   15  280  533 3509   93 1417 1522 1483 1726 1913  322\n",
      " 3620  358   55  617 1173 3694 1862 3201 1935  615 3511  664  848  960\n",
      " 3518 2820  451 1099 2678 3112 2979 3444 2357 1495  362 3946 3606 2024\n",
      " 3299 3384  993  810 2714  667 2203 1940 3791 2285 3913 2099 3013 2645\n",
      " 3491 2878 3538 2260 2551 2928  171 2769 1439  574  211 3746 3719 3392\n",
      " 3539 2801 2240  227 1516 2730 1202 1612   68 3470  564  523 1497 1869\n",
      " 1255 2504 3329 3002  854  970 2824   99 3715 3008 2610  388 1626  717\n",
      " 3158 3532   67   27 1854 2589 2785 2151  131 3804 1533 1114 3544 3830\n",
      " 3586 3732  619 3351 2095 2886 1743 1002 3669 3665 2521 2825 1798 2620\n",
      " 1153  228 2896 3637 1758 1538 2737 1440 3368  462 3900 1056 3875 3442\n",
      "  888 1558 2892 2452 2536 2773 3845 2914 1829 1668 1901 1575 3850 1622\n",
      " 1160 1671 2192 3757 2234 3116   90 2814 1138  887  401  643 3905 2984\n",
      " 3216 3493  623 3166 3778 2254 3666 1815  966  642 3485 3881  872 3237\n",
      " 2217  868  701 3336  134  404 3530]\n"
     ]
    }
   ],
   "source": [
    "#function to map the userid idxs for re indexing.\n",
    "user_ids = df[\"user_id\"].unique()\n",
    "item_ids = df[\"item_id\"].unique()\n",
    "def mapping(data):\n",
    "    item_map = {}\n",
    "    for idx,uid in enumerate(data):\n",
    "        item_map[uid]=idx\n",
    "    return item_map\n",
    "\n",
    "\n",
    "\n",
    "print(user_ids[::10])\n",
    "print(item_ids[::10])"
   ]
  },
  {
   "cell_type": "code",
   "execution_count": 213,
   "id": "d55337c9-745f-4c84-9ebd-eaacaa4abad5",
   "metadata": {},
   "outputs": [],
   "source": [
    "user_id_map = mapping(user_ids)\n",
    "item_id_map = mapping(item_ids)    "
   ]
  },
  {
   "cell_type": "code",
   "execution_count": 248,
   "id": "ef2d7897-df8a-4d3e-9907-95943cfbefbf",
   "metadata": {},
   "outputs": [],
   "source": [
    "#convert the user/item ids into consecutive integers\n",
    "df[\"user_id_mapped\"] = df[\"user_id\"].map(user_id_map)\n",
    "df[\"item_id_mapped\"] = df[\"item_id\"].map(item_id_map) \n",
    "\n",
    "#this reindexing is important for keras embedding layers\n",
    "\n",
    "\n",
    "#reversing the map to fetch the ids later\n",
    "idx2item = {idx: original_item_id for original_item_id, idx in item_id_map.items()}\n",
    "\n",
    "idx2user = {ids: original_user_id for original_user_id,ids in user_id_map.items()}\n",
    "\n"
   ]
  },
  {
   "cell_type": "code",
   "execution_count": 215,
   "id": "ebaa0da1-dcb2-45f5-af6d-0748707db707",
   "metadata": {},
   "outputs": [
    {
     "name": "stdout",
     "output_type": "stream",
     "text": [
      "595\n"
     ]
    }
   ],
   "source": [
    "print(idx2item[10])"
   ]
  },
  {
   "cell_type": "code",
   "execution_count": 216,
   "id": "095023c6-8478-4107-a7e7-ae47f2145a25",
   "metadata": {},
   "outputs": [
    {
     "data": {
      "text/html": [
       "<div>\n",
       "<style scoped>\n",
       "    .dataframe tbody tr th:only-of-type {\n",
       "        vertical-align: middle;\n",
       "    }\n",
       "\n",
       "    .dataframe tbody tr th {\n",
       "        vertical-align: top;\n",
       "    }\n",
       "\n",
       "    .dataframe thead th {\n",
       "        text-align: right;\n",
       "    }\n",
       "</style>\n",
       "<table border=\"1\" class=\"dataframe\">\n",
       "  <thead>\n",
       "    <tr style=\"text-align: right;\">\n",
       "      <th></th>\n",
       "      <th>user_id</th>\n",
       "      <th>item_id</th>\n",
       "      <th>rating</th>\n",
       "      <th>timestamp</th>\n",
       "      <th>interactions</th>\n",
       "      <th>user_id_mapped</th>\n",
       "      <th>item_id_mapped</th>\n",
       "    </tr>\n",
       "  </thead>\n",
       "  <tbody>\n",
       "    <tr>\n",
       "      <th>0</th>\n",
       "      <td>1</td>\n",
       "      <td>1193</td>\n",
       "      <td>5</td>\n",
       "      <td>978300760</td>\n",
       "      <td>1</td>\n",
       "      <td>0</td>\n",
       "      <td>0</td>\n",
       "    </tr>\n",
       "    <tr>\n",
       "      <th>1</th>\n",
       "      <td>1</td>\n",
       "      <td>661</td>\n",
       "      <td>3</td>\n",
       "      <td>978302109</td>\n",
       "      <td>0</td>\n",
       "      <td>0</td>\n",
       "      <td>1</td>\n",
       "    </tr>\n",
       "    <tr>\n",
       "      <th>2</th>\n",
       "      <td>1</td>\n",
       "      <td>914</td>\n",
       "      <td>3</td>\n",
       "      <td>978301968</td>\n",
       "      <td>0</td>\n",
       "      <td>0</td>\n",
       "      <td>2</td>\n",
       "    </tr>\n",
       "    <tr>\n",
       "      <th>3</th>\n",
       "      <td>1</td>\n",
       "      <td>3408</td>\n",
       "      <td>4</td>\n",
       "      <td>978300275</td>\n",
       "      <td>1</td>\n",
       "      <td>0</td>\n",
       "      <td>3</td>\n",
       "    </tr>\n",
       "    <tr>\n",
       "      <th>4</th>\n",
       "      <td>1</td>\n",
       "      <td>2355</td>\n",
       "      <td>5</td>\n",
       "      <td>978824291</td>\n",
       "      <td>1</td>\n",
       "      <td>0</td>\n",
       "      <td>4</td>\n",
       "    </tr>\n",
       "  </tbody>\n",
       "</table>\n",
       "</div>"
      ],
      "text/plain": [
       "   user_id  item_id  rating  timestamp  interactions  user_id_mapped  \\\n",
       "0        1     1193       5  978300760             1               0   \n",
       "1        1      661       3  978302109             0               0   \n",
       "2        1      914       3  978301968             0               0   \n",
       "3        1     3408       4  978300275             1               0   \n",
       "4        1     2355       5  978824291             1               0   \n",
       "\n",
       "   item_id_mapped  \n",
       "0               0  \n",
       "1               1  \n",
       "2               2  \n",
       "3               3  \n",
       "4               4  "
      ]
     },
     "execution_count": 216,
     "metadata": {},
     "output_type": "execute_result"
    }
   ],
   "source": [
    "df.head()"
   ]
  },
  {
   "cell_type": "code",
   "execution_count": null,
   "id": "15fce097-4d57-4acf-8265-fcedc2c8fd89",
   "metadata": {},
   "outputs": [],
   "source": []
  },
  {
   "cell_type": "code",
   "execution_count": 217,
   "id": "348c679f-6fde-4b41-8efd-daf544710dfb",
   "metadata": {},
   "outputs": [],
   "source": [
    "#drop the unneeded columns\n",
    "df_keras = df[[\"user_id_mapped\",\"item_id_mapped\",\"interactions\"]]"
   ]
  },
  {
   "cell_type": "code",
   "execution_count": 218,
   "id": "8fb0fe30-3582-4e49-8c0e-f0147a626eb3",
   "metadata": {},
   "outputs": [
    {
     "data": {
      "text/html": [
       "<div>\n",
       "<style scoped>\n",
       "    .dataframe tbody tr th:only-of-type {\n",
       "        vertical-align: middle;\n",
       "    }\n",
       "\n",
       "    .dataframe tbody tr th {\n",
       "        vertical-align: top;\n",
       "    }\n",
       "\n",
       "    .dataframe thead th {\n",
       "        text-align: right;\n",
       "    }\n",
       "</style>\n",
       "<table border=\"1\" class=\"dataframe\">\n",
       "  <thead>\n",
       "    <tr style=\"text-align: right;\">\n",
       "      <th></th>\n",
       "      <th>user_id_mapped</th>\n",
       "      <th>item_id_mapped</th>\n",
       "      <th>interactions</th>\n",
       "    </tr>\n",
       "  </thead>\n",
       "  <tbody>\n",
       "    <tr>\n",
       "      <th>0</th>\n",
       "      <td>0</td>\n",
       "      <td>0</td>\n",
       "      <td>1</td>\n",
       "    </tr>\n",
       "    <tr>\n",
       "      <th>1</th>\n",
       "      <td>0</td>\n",
       "      <td>1</td>\n",
       "      <td>0</td>\n",
       "    </tr>\n",
       "    <tr>\n",
       "      <th>2</th>\n",
       "      <td>0</td>\n",
       "      <td>2</td>\n",
       "      <td>0</td>\n",
       "    </tr>\n",
       "    <tr>\n",
       "      <th>3</th>\n",
       "      <td>0</td>\n",
       "      <td>3</td>\n",
       "      <td>1</td>\n",
       "    </tr>\n",
       "    <tr>\n",
       "      <th>4</th>\n",
       "      <td>0</td>\n",
       "      <td>4</td>\n",
       "      <td>1</td>\n",
       "    </tr>\n",
       "  </tbody>\n",
       "</table>\n",
       "</div>"
      ],
      "text/plain": [
       "   user_id_mapped  item_id_mapped  interactions\n",
       "0               0               0             1\n",
       "1               0               1             0\n",
       "2               0               2             0\n",
       "3               0               3             1\n",
       "4               0               4             1"
      ]
     },
     "execution_count": 218,
     "metadata": {},
     "output_type": "execute_result"
    }
   ],
   "source": [
    "df_keras.head()"
   ]
  },
  {
   "cell_type": "code",
   "execution_count": 219,
   "id": "9985a585-03af-480b-bd95-c0702fc961f6",
   "metadata": {},
   "outputs": [],
   "source": [
    "from sklearn.model_selection import train_test_split\n",
    "X= df_keras[[\"user_id_mapped\",\"item_id_mapped\"]]\n",
    "y= df_keras[[\"interactions\"]]\n",
    "\n",
    "X_train, X_test, y_train, y_test = train_test_split(X, y, test_size=0.2, random_state=42)\n",
    "\n",
    "\n",
    "\n",
    "\n"
   ]
  },
  {
   "cell_type": "code",
   "execution_count": 220,
   "id": "1f597e21-238d-4820-9722-696685b83f7b",
   "metadata": {},
   "outputs": [
    {
     "name": "stdout",
     "output_type": "stream",
     "text": [
      "6040\n",
      "3706\n"
     ]
    }
   ],
   "source": [
    "num_users = df_keras[\"user_id_mapped\"].nunique() #unique values are important for keras embeddings\n",
    "num_items = df[\"item_id_mapped\"].nunique()\n",
    "\n",
    "print(num_users)\n",
    "print(num_items)\n",
    "\n",
    "\n",
    "#the values of unique users and items shows that there are many non-unique user and items in this 1 million large dataset"
   ]
  },
  {
   "cell_type": "code",
   "execution_count": 221,
   "id": "fab67cef-16a0-4294-9842-97eaeff7e687",
   "metadata": {},
   "outputs": [
    {
     "name": "stdout",
     "output_type": "stream",
     "text": [
      "Model: \"model_1\"\n",
      "__________________________________________________________________________________________________\n",
      " Layer (type)                   Output Shape         Param #     Connected to                     \n",
      "==================================================================================================\n",
      " input_3 (InputLayer)           [(None, 1)]          0           []                               \n",
      "                                                                                                  \n",
      " input_4 (InputLayer)           [(None, 1)]          0           []                               \n",
      "                                                                                                  \n",
      " embedding_6 (Embedding)        (None, 1, 32)        193280      ['input_3[0][0]']                \n",
      "                                                                                                  \n",
      " embedding_7 (Embedding)        (None, 1, 32)        118592      ['input_4[0][0]']                \n",
      "                                                                                                  \n",
      " flatten_6 (Flatten)            (None, 32)           0           ['embedding_6[0][0]']            \n",
      "                                                                                                  \n",
      " flatten_7 (Flatten)            (None, 32)           0           ['embedding_7[0][0]']            \n",
      "                                                                                                  \n",
      " concatenate_2 (Concatenate)    (None, 64)           0           ['flatten_6[0][0]',              \n",
      "                                                                  'flatten_7[0][0]']              \n",
      "                                                                                                  \n",
      " embedding_4 (Embedding)        (None, 1, 32)        193280      ['input_3[0][0]']                \n",
      "                                                                                                  \n",
      " embedding_5 (Embedding)        (None, 1, 32)        118592      ['input_4[0][0]']                \n",
      "                                                                                                  \n",
      " dense_4 (Dense)                (None, 64)           4160        ['concatenate_2[0][0]']          \n",
      "                                                                                                  \n",
      " flatten_4 (Flatten)            (None, 32)           0           ['embedding_4[0][0]']            \n",
      "                                                                                                  \n",
      " flatten_5 (Flatten)            (None, 32)           0           ['embedding_5[0][0]']            \n",
      "                                                                                                  \n",
      " dense_5 (Dense)                (None, 32)           2080        ['dense_4[0][0]']                \n",
      "                                                                                                  \n",
      " multiply_1 (Multiply)          (None, 32)           0           ['flatten_4[0][0]',              \n",
      "                                                                  'flatten_5[0][0]']              \n",
      "                                                                                                  \n",
      " dense_6 (Dense)                (None, 16)           528         ['dense_5[0][0]']                \n",
      "                                                                                                  \n",
      " concatenate_3 (Concatenate)    (None, 48)           0           ['multiply_1[0][0]',             \n",
      "                                                                  'dense_6[0][0]']                \n",
      "                                                                                                  \n",
      " dense_7 (Dense)                (None, 1)            49          ['concatenate_3[0][0]']          \n",
      "                                                                                                  \n",
      "==================================================================================================\n",
      "Total params: 630,561\n",
      "Trainable params: 630,561\n",
      "Non-trainable params: 0\n",
      "__________________________________________________________________________________________________\n"
     ]
    }
   ],
   "source": [
    "from keras.models import Model\n",
    "from keras.layers import Input,Embedding,Flatten, Multiply, Concatenate, Dense\n",
    "from keras.optimizers import Adam\n",
    "from keras.callbacks import EarlyStopping\n",
    "\n",
    "#inputs\n",
    "user_input = Input(shape=(1,))\n",
    "item_input = Input(shape=(1,))\n",
    "\n",
    "#embeddings\n",
    "embedding_dim = 32\n",
    "\n",
    "user_embedding_gmf = Embedding(num_users,embedding_dim)(user_input)\n",
    "item_embedding_gmf = Embedding(num_items,embedding_dim)(item_input)\n",
    "\n",
    "\n",
    "user_embedding_mlp = Embedding(num_users,embedding_dim)(user_input)\n",
    "item_embedding_mlp = Embedding(num_items,embedding_dim)(item_input)\n",
    "\n",
    "#flatten\n",
    "user_vec_gmf = Flatten()(user_embedding_gmf)\n",
    "item_vec_gmf = Flatten()(item_embedding_gmf)\n",
    "\n",
    "user_vec_mlp = Flatten()(user_embedding_mlp)\n",
    "item_vec_mlp = Flatten()(item_embedding_mlp)\n",
    "\n",
    "\n",
    "#gmf branch\n",
    "gmf = Multiply()([user_vec_gmf,item_vec_gmf])\n",
    "\n",
    "#MLP branch\n",
    "mlp = Concatenate()([user_vec_mlp, item_vec_mlp])\n",
    "mlp = Dense(64, activation='relu')(mlp)\n",
    "mlp = Dense(32, activation='relu')(mlp)\n",
    "mlp = Dense(16, activation='relu')(mlp)\n",
    "\n",
    "#neuMF\n",
    "neu = Concatenate()([gmf,mlp])\n",
    "output = Dense(1,activation=\"sigmoid\")(neu)\n",
    "\n",
    "model = Model(inputs=[user_input,item_input],outputs=output)\n",
    "\n",
    "early_stopping = EarlyStopping(\n",
    "    monitor=\"val_loss\",\n",
    "    min_delta=0,\n",
    "    patience=3,\n",
    "    verbose=1,\n",
    "    mode=\"auto\",\n",
    "    baseline=None,\n",
    "    restore_best_weights=True,\n",
    ")\n",
    "\n",
    "model.compile(loss=\"binary_crossentropy\",optimizer=Adam(learning_rate=0.001),metrics=[\"accuracy\"])\n",
    "model.summary()\n",
    "\n",
    "\n",
    "\n",
    "\n"
   ]
  },
  {
   "cell_type": "code",
   "execution_count": 222,
   "id": "dfb15909-0cbb-484c-bf09-175428992702",
   "metadata": {},
   "outputs": [
    {
     "name": "stdout",
     "output_type": "stream",
     "text": [
      "Model is: <keras.engine.functional.Functional object at 0x000001CCA8470DC0>\n",
      "Model is compiled: True\n"
     ]
    }
   ],
   "source": [
    "print(\"Model is:\", model)\n",
    "print(\"Model is compiled:\", hasattr(model, \"fit\"))"
   ]
  },
  {
   "cell_type": "code",
   "execution_count": 223,
   "id": "4b966a87-f576-4c59-abe0-f27f5328d22c",
   "metadata": {},
   "outputs": [
    {
     "name": "stdout",
     "output_type": "stream",
     "text": [
      "<class 'pandas.core.series.Series'> <class 'pandas.core.series.Series'>\n",
      "<class 'pandas.core.frame.DataFrame'>\n",
      "(800167,)\n",
      "(800167,)\n",
      "(800167, 1)\n",
      "416292    0\n",
      "683230    1\n",
      "2434      0\n",
      "688533    1\n",
      "472584    1\n",
      "         ..\n",
      "259178    1\n",
      "365838    1\n",
      "131932    0\n",
      "671155    1\n",
      "121958    1\n",
      "Name: interactions, Length: 800167, dtype: int32\n"
     ]
    }
   ],
   "source": [
    "print(type(X_train[\"user_id_mapped\"]),type(X_train[\"item_id_mapped\"]))\n",
    "print(type(y_train))\n",
    "\n",
    "print(X_train[\"user_id_mapped\"].shape)\n",
    "print(X_train[\"item_id_mapped\"].shape)\n",
    "\n",
    "print(y_train.shape)\n",
    "#y_train = y_train.iloc[:,0].values - this only works for pandas series not for numpy arrays\n",
    "#y_test = y_test.iloc[:,0].values\n",
    "y_train = y_train.squeeze()\n",
    "y_test = y_test.squeeze()\n",
    "\n",
    "print(y_train)"
   ]
  },
  {
   "cell_type": "code",
   "execution_count": 224,
   "id": "b1f7c37f-e1ad-4cfb-bc34-2b8a9b2c0fdb",
   "metadata": {},
   "outputs": [
    {
     "name": "stdout",
     "output_type": "stream",
     "text": [
      "Epoch 1/20\n",
      "3126/3126 [==============================] - 67s 20ms/step - loss: 0.5532 - accuracy: 0.7142 - val_loss: 0.5336 - val_accuracy: 0.7286\n",
      "Epoch 2/20\n",
      "3126/3126 [==============================] - 61s 19ms/step - loss: 0.4962 - accuracy: 0.7557 - val_loss: 0.5222 - val_accuracy: 0.7384\n",
      "Epoch 3/20\n",
      "3126/3126 [==============================] - 62s 20ms/step - loss: 0.4261 - accuracy: 0.8019 - val_loss: 0.5504 - val_accuracy: 0.7286\n",
      "Epoch 4/20\n",
      "3126/3126 [==============================] - 62s 20ms/step - loss: 0.3762 - accuracy: 0.8313 - val_loss: 0.5919 - val_accuracy: 0.7209\n",
      "Epoch 5/20\n",
      "Restoring model weights from the end of the best epoch: 2.s: 0.3432 - accuracy: 0.8492  \n",
      "3126/3126 [==============================] - 60s 19ms/step - loss: 0.3432 - accuracy: 0.8492 - val_loss: 0.6348 - val_accuracy: 0.7137\n",
      "Epoch 5: early stopping\n"
     ]
    }
   ],
   "source": [
    "history = model.fit(\n",
    "    [X_train['user_id_mapped'],X_train[\"item_id_mapped\"]],\n",
    "    y_train, \n",
    "    batch_size = 256, \n",
    "    epochs=20, \n",
    "    verbose =1,\n",
    "    validation_data = (\n",
    "    [X_test[\"user_id_mapped\"],X_test[\"item_id_mapped\"]],y_test),\n",
    "    callbacks = early_stopping)\n",
    "\n",
    "\n",
    "\n"
   ]
  },
  {
   "cell_type": "code",
   "execution_count": 225,
   "id": "518711fe-5817-46dd-a810-9e1a6c9c5cbe",
   "metadata": {},
   "outputs": [
    {
     "name": "stdout",
     "output_type": "stream",
     "text": [
      "6252/6252 [==============================] - 38s 6ms/step - loss: 0.5222 - accuracy: 0.7384\n",
      "Best Validation Loss: 0.5222, Accuracy: 0.7384\n"
     ]
    }
   ],
   "source": [
    "val_loss, val_acc = model.evaluate(\n",
    "    [X_test[\"user_id_mapped\"].values, X_test[\"item_id_mapped\"].values], y_test\n",
    ")\n",
    "print(f\"Best Validation Loss: {val_loss:.4f}, Accuracy: {val_acc:.4f}\")"
   ]
  },
  {
   "cell_type": "code",
   "execution_count": 226,
   "id": "3190ac09-8a3f-45b8-9bca-b11d0a30f36a",
   "metadata": {},
   "outputs": [
    {
     "data": {
      "text/html": [
       "<div>\n",
       "<style scoped>\n",
       "    .dataframe tbody tr th:only-of-type {\n",
       "        vertical-align: middle;\n",
       "    }\n",
       "\n",
       "    .dataframe tbody tr th {\n",
       "        vertical-align: top;\n",
       "    }\n",
       "\n",
       "    .dataframe thead th {\n",
       "        text-align: right;\n",
       "    }\n",
       "</style>\n",
       "<table border=\"1\" class=\"dataframe\">\n",
       "  <thead>\n",
       "    <tr style=\"text-align: right;\">\n",
       "      <th></th>\n",
       "      <th>user_id_mapped</th>\n",
       "      <th>item_id_mapped</th>\n",
       "      <th>interactions</th>\n",
       "    </tr>\n",
       "  </thead>\n",
       "  <tbody>\n",
       "    <tr>\n",
       "      <th>0</th>\n",
       "      <td>0</td>\n",
       "      <td>0</td>\n",
       "      <td>1</td>\n",
       "    </tr>\n",
       "    <tr>\n",
       "      <th>1</th>\n",
       "      <td>0</td>\n",
       "      <td>1</td>\n",
       "      <td>0</td>\n",
       "    </tr>\n",
       "    <tr>\n",
       "      <th>2</th>\n",
       "      <td>0</td>\n",
       "      <td>2</td>\n",
       "      <td>0</td>\n",
       "    </tr>\n",
       "    <tr>\n",
       "      <th>3</th>\n",
       "      <td>0</td>\n",
       "      <td>3</td>\n",
       "      <td>1</td>\n",
       "    </tr>\n",
       "    <tr>\n",
       "      <th>4</th>\n",
       "      <td>0</td>\n",
       "      <td>4</td>\n",
       "      <td>1</td>\n",
       "    </tr>\n",
       "  </tbody>\n",
       "</table>\n",
       "</div>"
      ],
      "text/plain": [
       "   user_id_mapped  item_id_mapped  interactions\n",
       "0               0               0             1\n",
       "1               0               1             0\n",
       "2               0               2             0\n",
       "3               0               3             1\n",
       "4               0               4             1"
      ]
     },
     "execution_count": 226,
     "metadata": {},
     "output_type": "execute_result"
    }
   ],
   "source": [
    "df_keras.head()"
   ]
  },
  {
   "cell_type": "code",
   "execution_count": 227,
   "id": "20870cf1-ef73-43c0-8760-9aa667960b3b",
   "metadata": {},
   "outputs": [
    {
     "name": "stdout",
     "output_type": "stream",
     "text": [
      "4667\n",
      "335\n",
      "Predicted interaction score: 0.92205274\n"
     ]
    }
   ],
   "source": [
    "user_id = X_test.iloc[5][\"user_id_mapped\"]\n",
    "item_id = X_test.iloc[500][\"item_id_mapped\"]\n",
    "\n",
    "print(user_id)\n",
    "print(item_id)\n",
    "\n",
    "# Prepare model inputs as 2D arrays\n",
    "score = model.predict([np.array([[4667]]), np.array([[item_id]])], verbose=0)\n",
    "\n",
    "\n",
    "print(\"Predicted interaction score:\", score[0][0])"
   ]
  },
  {
   "cell_type": "code",
   "execution_count": 228,
   "id": "8ca75473-19a1-43f8-8358-f23a4e601c45",
   "metadata": {},
   "outputs": [
    {
     "name": "stdout",
     "output_type": "stream",
     "text": [
      "items:  [   0    1    2 ... 3703 3704 3705]\n",
      "users: [4667 4667 4667 ... 4667 4667 4667]\n"
     ]
    }
   ],
   "source": [
    "all_items = df_keras[\"item_id_mapped\"].unique()\n",
    "print(\"items: \",all_items)\n",
    "user_input = np.full(len(all_items),user_id)\n",
    "print(\"users:\",user_input)\n",
    "item_input = all_items\n",
    "\n",
    "#reshape to num items\n",
    "user_input = user_input.reshape(-1,1) #keras requires 2d input\n",
    "item_input = user_input.reshape(-1,1)\n",
    "\n",
    "\n"
   ]
  },
  {
   "cell_type": "markdown",
   "id": "b0dd2455-ef18-4c08-8696-561e562b1b02",
   "metadata": {},
   "source": [
    "#def get_scored(user_):\n",
    "    all_items = df_keras[\"item_id_mapped\"].unique()\n",
    "    user_array = np.array([[user_]])\n",
    "    predictions_list = []\n",
    "    for item in all_items:\n",
    "        item_array = np.array([[item]])\n",
    "        predictions  = model.predict([user_array,item_array],verbose=0)[0][0] #the [0][0] to extract the scalar from the nparray\n",
    "        predictions_list.append((item,predictions))\n",
    "    top_n_predictions = sorted(predictions_list,key =lambda x:x[1], reverse=True)[:10]\n",
    "    return top_n_predictions\n",
    "\n",
    "\n",
    "\n",
    "print(get_scored(101))"
   ]
  },
  {
   "cell_type": "code",
   "execution_count": 229,
   "id": "ce5323ec-d552-47b3-99b2-beefdeeeb437",
   "metadata": {},
   "outputs": [],
   "source": [
    "#map these ids back to the movie titles"
   ]
  },
  {
   "cell_type": "code",
   "execution_count": 230,
   "id": "860f8157-bffd-4a81-bb5a-b156e6e9f503",
   "metadata": {},
   "outputs": [
    {
     "data": {
      "text/html": [
       "<div>\n",
       "<style scoped>\n",
       "    .dataframe tbody tr th:only-of-type {\n",
       "        vertical-align: middle;\n",
       "    }\n",
       "\n",
       "    .dataframe tbody tr th {\n",
       "        vertical-align: top;\n",
       "    }\n",
       "\n",
       "    .dataframe thead th {\n",
       "        text-align: right;\n",
       "    }\n",
       "</style>\n",
       "<table border=\"1\" class=\"dataframe\">\n",
       "  <thead>\n",
       "    <tr style=\"text-align: right;\">\n",
       "      <th></th>\n",
       "      <th>user_id</th>\n",
       "      <th>item_id</th>\n",
       "      <th>rating</th>\n",
       "      <th>timestamp</th>\n",
       "      <th>interactions</th>\n",
       "      <th>user_id_mapped</th>\n",
       "      <th>item_id_mapped</th>\n",
       "    </tr>\n",
       "  </thead>\n",
       "  <tbody>\n",
       "    <tr>\n",
       "      <th>0</th>\n",
       "      <td>1</td>\n",
       "      <td>1193</td>\n",
       "      <td>5</td>\n",
       "      <td>978300760</td>\n",
       "      <td>1</td>\n",
       "      <td>0</td>\n",
       "      <td>0</td>\n",
       "    </tr>\n",
       "    <tr>\n",
       "      <th>1</th>\n",
       "      <td>1</td>\n",
       "      <td>661</td>\n",
       "      <td>3</td>\n",
       "      <td>978302109</td>\n",
       "      <td>0</td>\n",
       "      <td>0</td>\n",
       "      <td>1</td>\n",
       "    </tr>\n",
       "    <tr>\n",
       "      <th>2</th>\n",
       "      <td>1</td>\n",
       "      <td>914</td>\n",
       "      <td>3</td>\n",
       "      <td>978301968</td>\n",
       "      <td>0</td>\n",
       "      <td>0</td>\n",
       "      <td>2</td>\n",
       "    </tr>\n",
       "    <tr>\n",
       "      <th>3</th>\n",
       "      <td>1</td>\n",
       "      <td>3408</td>\n",
       "      <td>4</td>\n",
       "      <td>978300275</td>\n",
       "      <td>1</td>\n",
       "      <td>0</td>\n",
       "      <td>3</td>\n",
       "    </tr>\n",
       "    <tr>\n",
       "      <th>4</th>\n",
       "      <td>1</td>\n",
       "      <td>2355</td>\n",
       "      <td>5</td>\n",
       "      <td>978824291</td>\n",
       "      <td>1</td>\n",
       "      <td>0</td>\n",
       "      <td>4</td>\n",
       "    </tr>\n",
       "  </tbody>\n",
       "</table>\n",
       "</div>"
      ],
      "text/plain": [
       "   user_id  item_id  rating  timestamp  interactions  user_id_mapped  \\\n",
       "0        1     1193       5  978300760             1               0   \n",
       "1        1      661       3  978302109             0               0   \n",
       "2        1      914       3  978301968             0               0   \n",
       "3        1     3408       4  978300275             1               0   \n",
       "4        1     2355       5  978824291             1               0   \n",
       "\n",
       "   item_id_mapped  \n",
       "0               0  \n",
       "1               1  \n",
       "2               2  \n",
       "3               3  \n",
       "4               4  "
      ]
     },
     "execution_count": 230,
     "metadata": {},
     "output_type": "execute_result"
    }
   ],
   "source": [
    "df.head()"
   ]
  },
  {
   "cell_type": "code",
   "execution_count": 231,
   "id": "f3cbf7c1-7b52-49aa-a66a-aec2716466d1",
   "metadata": {},
   "outputs": [
    {
     "data": {
      "text/html": [
       "<div>\n",
       "<style scoped>\n",
       "    .dataframe tbody tr th:only-of-type {\n",
       "        vertical-align: middle;\n",
       "    }\n",
       "\n",
       "    .dataframe tbody tr th {\n",
       "        vertical-align: top;\n",
       "    }\n",
       "\n",
       "    .dataframe thead th {\n",
       "        text-align: right;\n",
       "    }\n",
       "</style>\n",
       "<table border=\"1\" class=\"dataframe\">\n",
       "  <thead>\n",
       "    <tr style=\"text-align: right;\">\n",
       "      <th></th>\n",
       "      <th>user_id</th>\n",
       "      <th>item_id</th>\n",
       "      <th>rating</th>\n",
       "      <th>interactions</th>\n",
       "      <th>user_id_mapped</th>\n",
       "      <th>item_id_mapped</th>\n",
       "    </tr>\n",
       "  </thead>\n",
       "  <tbody>\n",
       "    <tr>\n",
       "      <th>0</th>\n",
       "      <td>1</td>\n",
       "      <td>1193</td>\n",
       "      <td>5</td>\n",
       "      <td>1</td>\n",
       "      <td>0</td>\n",
       "      <td>0</td>\n",
       "    </tr>\n",
       "    <tr>\n",
       "      <th>1</th>\n",
       "      <td>1</td>\n",
       "      <td>661</td>\n",
       "      <td>3</td>\n",
       "      <td>0</td>\n",
       "      <td>0</td>\n",
       "      <td>1</td>\n",
       "    </tr>\n",
       "    <tr>\n",
       "      <th>2</th>\n",
       "      <td>1</td>\n",
       "      <td>914</td>\n",
       "      <td>3</td>\n",
       "      <td>0</td>\n",
       "      <td>0</td>\n",
       "      <td>2</td>\n",
       "    </tr>\n",
       "    <tr>\n",
       "      <th>3</th>\n",
       "      <td>1</td>\n",
       "      <td>3408</td>\n",
       "      <td>4</td>\n",
       "      <td>1</td>\n",
       "      <td>0</td>\n",
       "      <td>3</td>\n",
       "    </tr>\n",
       "    <tr>\n",
       "      <th>4</th>\n",
       "      <td>1</td>\n",
       "      <td>2355</td>\n",
       "      <td>5</td>\n",
       "      <td>1</td>\n",
       "      <td>0</td>\n",
       "      <td>4</td>\n",
       "    </tr>\n",
       "  </tbody>\n",
       "</table>\n",
       "</div>"
      ],
      "text/plain": [
       "   user_id  item_id  rating  interactions  user_id_mapped  item_id_mapped\n",
       "0        1     1193       5             1               0               0\n",
       "1        1      661       3             0               0               1\n",
       "2        1      914       3             0               0               2\n",
       "3        1     3408       4             1               0               3\n",
       "4        1     2355       5             1               0               4"
      ]
     },
     "execution_count": 231,
     "metadata": {},
     "output_type": "execute_result"
    }
   ],
   "source": [
    "df_test = df[[\"user_id\",\"item_id\",\"rating\",\"interactions\",\"user_id_mapped\",\"item_id_mapped\"]]\n",
    "df_test.head()\n"
   ]
  },
  {
   "cell_type": "code",
   "execution_count": 232,
   "id": "2dedf03b-7d46-4ce4-a1f7-9fbd2da4becb",
   "metadata": {},
   "outputs": [
    {
     "name": "stdout",
     "output_type": "stream",
     "text": [
      "<class 'dict'>\n",
      "[(0, {0, 1, 2, 3, 4, 5, 6, 7, 8, 9, 10, 11, 12, 13, 14, 15, 16, 17, 18, 19, 20, 21, 22, 23, 24, 25, 26, 27, 28, 29, 30, 31, 32, 33, 34, 35, 36, 37, 38, 39, 40, 41, 42, 43, 44, 45, 46, 47, 48, 49, 50, 51, 52}), (1, {0, 18, 20, 42, 47, 48, 52, 53, 54, 55, 56, 57, 58, 59, 60, 61, 62, 63, 64, 65, 66, 67, 68, 69, 70, 71, 72, 73, 74, 75, 76, 77, 78, 79, 80, 81, 82, 83, 84, 85, 86, 87, 88, 89, 90, 91, 92, 93, 94, 95, 96, 97, 98, 99, 100, 101, 102, 103, 104, 105, 106, 107, 108, 109, 110, 111, 112, 113, 114, 115, 116, 117, 118, 119, 120, 121, 122, 123, 124, 125, 126, 127, 128, 129, 130, 131, 132, 133, 134, 135, 136, 137, 138, 139, 140, 141, 142, 143, 144, 145, 146, 147, 148, 149, 150, 151, 152, 153, 154, 155, 156, 157, 158, 159, 160, 161, 162, 163, 164, 165, 166, 167, 168, 169, 170, 171, 172, 173, 174}), (2, {128, 4, 5, 22, 166, 168, 41, 44, 175, 176, 177, 178, 179, 180, 181, 182, 183, 184, 185, 186, 187, 58, 188, 189, 190, 64, 191, 192, 193, 194, 195, 196, 197, 198, 199, 200, 201, 202, 203, 204, 205, 206, 207, 84, 104, 124, 113, 116, 123, 50, 127}), (3, {139, 26, 156, 43, 44, 48, 63, 64, 208, 209, 210, 211, 212, 213, 214, 215, 216, 217, 113, 124, 127}), (4, {3, 4, 9, 18, 27, 38, 39, 43, 48, 51, 59, 62, 67, 68, 78, 104, 106, 109, 120, 122, 128, 129, 131, 132, 155, 156, 167, 171, 184, 189, 195, 218, 219, 220, 221, 222, 223, 224, 225, 226, 227, 228, 229, 230, 231, 232, 233, 234, 235, 236, 237, 238, 239, 240, 241, 242, 243, 244, 245, 246, 247, 248, 249, 250, 251, 252, 253, 254, 255, 256, 257, 258, 259, 260, 261, 262, 263, 264, 265, 266, 267, 268, 269, 270, 271, 272, 273, 274, 275, 276, 277, 278, 279, 280, 281, 282, 283, 284, 285, 286, 287, 288, 289, 290, 291, 292, 293, 294, 295, 296, 297, 298, 299, 300, 301, 302, 303, 304, 305, 306, 307, 308, 309, 310, 311, 312, 313, 314, 315, 316, 317, 318, 319, 320, 321, 322, 323, 324, 325, 326, 327, 328, 329, 330, 331, 332, 333, 334, 335, 336, 337, 338, 339, 340, 341, 342, 343, 344, 345, 346, 347, 348, 349, 350, 351, 352, 353, 354, 355, 356, 357, 358, 359, 360, 361, 362, 363, 364, 365, 366, 367, 368, 369, 370, 371, 372, 373, 374, 375, 376, 377, 378, 379, 380, 381, 382, 383, 384})]\n"
     ]
    }
   ],
   "source": [
    "# Build a dictionary { user_idx : set of item_idx }\n",
    "# Build user-item interaction dictionary from full DF\n",
    "# Make sure you do this in a fresh cell before calling get_top_k_recommendations\n",
    "\n",
    "user_item_interactions = (\n",
    "    df.groupby(\"user_id_mapped\")[\"item_id_mapped\"]\n",
    "    .apply(set)          # convert each user's items to a set\n",
    "    .to_dict()           # convert Series to dict\n",
    ")\n",
    "\n",
    "print(type(user_item_interactions))  # should be dict\n",
    "print(list(user_item_interactions.items())[:5])  # preview"
   ]
  },
  {
   "cell_type": "code",
   "execution_count": 233,
   "id": "54e154ad-7963-4253-8698-9c44e1701720",
   "metadata": {},
   "outputs": [],
   "source": [
    "def get_top_k_recommendations(model, user_id,user_item_interactions, all_items, k=10):\n",
    "    \"\"\"\n",
    "    model: trained Keras NCF model\n",
    "    user_id: mapped user index (int)\n",
    "    all_items: list/array of all mapped item indices\n",
    "    user_item_interactions: set or list of items the user has interacted with\n",
    "    k: top K items to return\n",
    "    \"\"\"\n",
    "\n",
    "    # Filter out items already interacted with\n",
    "    seen_movies = set(user_item_interactions.get(user_id, set()))\n",
    "    unseen_items = set(all_items) - seen_movies\n",
    "    unseen_items = np.array(list(unseen_items))\n",
    "\n",
    "    # Create user tensor\n",
    "    users = np.full(len(unseen_items), user_id, dtype=np.int32)\n",
    "    print(users)\n",
    "    print(unseen_items)\n",
    "\n",
    "    # Predict scores\n",
    "    predictions = model.predict([users, unseen_items], verbose=0).flatten() #keras output in 2d array form, for sorting we need to flatten it\n",
    "    print(predictions)\n",
    "\n",
    "    # Get top-K items\n",
    "    top_k_indices = predictions.argsort()[-k:][::-1]\n",
    "    print(top_k_indices)\n",
    "    top_k_items = unseen_items[top_k_indices]\n",
    "    print(top_k_items)\n",
    "\n",
    "    return top_k_items\n"
   ]
  },
  {
   "cell_type": "code",
   "execution_count": 234,
   "id": "2744bcd0-d313-4ba4-a16d-67c9f141d60a",
   "metadata": {},
   "outputs": [
    {
     "name": "stdin",
     "output_type": "stream",
     "text": [
      "Enter the user ID 76\n"
     ]
    }
   ],
   "source": [
    "user_id = int(input(\"Enter the user ID\"))"
   ]
  },
  {
   "cell_type": "code",
   "execution_count": 235,
   "id": "14fea7cd-012d-4908-9b2f-e38ddd71ae9b",
   "metadata": {},
   "outputs": [
    {
     "name": "stdout",
     "output_type": "stream",
     "text": [
      "[76 76 76 ... 76 76 76]\n",
      "[   0    1    2 ... 3703 3704 3705]\n",
      "[0.9214448  0.45314407 0.58341295 ... 0.27519125 0.46075416 0.5723133 ]\n",
      "[ 512 2578 1057   28 1201  646 2571 1615  162  606]\n",
      "[ 535 2617 1092   29 1237  669 2610 1651  167  629]\n"
     ]
    }
   ],
   "source": [
    "top_indices_mapped = get_top_k_recommendations(model, user_id, user_item_interactions, all_items, k=10)"
   ]
  },
  {
   "cell_type": "code",
   "execution_count": 236,
   "id": "e39b79e9-2d95-4a06-a6e7-5d18a1c2a858",
   "metadata": {},
   "outputs": [],
   "source": [
    "\n",
    "def map_back_to_original_ids(top_indices_mapped):\n",
    "    top_indices_original_ids =  []\n",
    "    for i in top_indices_mapped:\n",
    "        top_indices_original_ids.append(idx2item[i])\n",
    "    return top_indices_original_ids\n"
   ]
  },
  {
   "cell_type": "code",
   "execution_count": 237,
   "id": "9f392a2a-3cf9-4d1c-949e-57dbdf758bcf",
   "metadata": {},
   "outputs": [],
   "source": [
    "top_ids_original = map_back_to_original_ids(top_indices_mapped)"
   ]
  },
  {
   "cell_type": "code",
   "execution_count": 238,
   "id": "1e4baa82-1e0d-4ae5-8307-3ce6801751ee",
   "metadata": {},
   "outputs": [
    {
     "data": {
      "text/html": [
       "<div>\n",
       "<style scoped>\n",
       "    .dataframe tbody tr th:only-of-type {\n",
       "        vertical-align: middle;\n",
       "    }\n",
       "\n",
       "    .dataframe tbody tr th {\n",
       "        vertical-align: top;\n",
       "    }\n",
       "\n",
       "    .dataframe thead th {\n",
       "        text-align: right;\n",
       "    }\n",
       "</style>\n",
       "<table border=\"1\" class=\"dataframe\">\n",
       "  <thead>\n",
       "    <tr style=\"text-align: right;\">\n",
       "      <th></th>\n",
       "      <th>user_id</th>\n",
       "      <th>item_id</th>\n",
       "      <th>rating</th>\n",
       "      <th>timestamp</th>\n",
       "      <th>interactions</th>\n",
       "      <th>user_id_mapped</th>\n",
       "      <th>item_id_mapped</th>\n",
       "    </tr>\n",
       "  </thead>\n",
       "  <tbody>\n",
       "    <tr>\n",
       "      <th>0</th>\n",
       "      <td>1</td>\n",
       "      <td>1193</td>\n",
       "      <td>5</td>\n",
       "      <td>978300760</td>\n",
       "      <td>1</td>\n",
       "      <td>0</td>\n",
       "      <td>0</td>\n",
       "    </tr>\n",
       "    <tr>\n",
       "      <th>1</th>\n",
       "      <td>1</td>\n",
       "      <td>661</td>\n",
       "      <td>3</td>\n",
       "      <td>978302109</td>\n",
       "      <td>0</td>\n",
       "      <td>0</td>\n",
       "      <td>1</td>\n",
       "    </tr>\n",
       "    <tr>\n",
       "      <th>2</th>\n",
       "      <td>1</td>\n",
       "      <td>914</td>\n",
       "      <td>3</td>\n",
       "      <td>978301968</td>\n",
       "      <td>0</td>\n",
       "      <td>0</td>\n",
       "      <td>2</td>\n",
       "    </tr>\n",
       "    <tr>\n",
       "      <th>3</th>\n",
       "      <td>1</td>\n",
       "      <td>3408</td>\n",
       "      <td>4</td>\n",
       "      <td>978300275</td>\n",
       "      <td>1</td>\n",
       "      <td>0</td>\n",
       "      <td>3</td>\n",
       "    </tr>\n",
       "    <tr>\n",
       "      <th>4</th>\n",
       "      <td>1</td>\n",
       "      <td>2355</td>\n",
       "      <td>5</td>\n",
       "      <td>978824291</td>\n",
       "      <td>1</td>\n",
       "      <td>0</td>\n",
       "      <td>4</td>\n",
       "    </tr>\n",
       "  </tbody>\n",
       "</table>\n",
       "</div>"
      ],
      "text/plain": [
       "   user_id  item_id  rating  timestamp  interactions  user_id_mapped  \\\n",
       "0        1     1193       5  978300760             1               0   \n",
       "1        1      661       3  978302109             0               0   \n",
       "2        1      914       3  978301968             0               0   \n",
       "3        1     3408       4  978300275             1               0   \n",
       "4        1     2355       5  978824291             1               0   \n",
       "\n",
       "   item_id_mapped  \n",
       "0               0  \n",
       "1               1  \n",
       "2               2  \n",
       "3               3  \n",
       "4               4  "
      ]
     },
     "execution_count": 238,
     "metadata": {},
     "output_type": "execute_result"
    }
   ],
   "source": [
    "df.head()"
   ]
  },
  {
   "cell_type": "code",
   "execution_count": 239,
   "id": "34f91786-eb40-4808-8138-cb0e91240826",
   "metadata": {},
   "outputs": [
    {
     "name": "stdout",
     "output_type": "stream",
     "text": [
      "   movieId                               title                        genres\n",
      "0        1                    Toy Story (1995)   Animation|Children's|Comedy\n",
      "1        2                      Jumanji (1995)  Adventure|Children's|Fantasy\n",
      "2        3             Grumpier Old Men (1995)                Comedy|Romance\n",
      "3        4            Waiting to Exhale (1995)                  Comedy|Drama\n",
      "4        5  Father of the Bride Part II (1995)                        Comedy\n"
     ]
    }
   ],
   "source": [
    "movies = pd.read_csv(\n",
    "    \"movies.dat\",\n",
    "    sep=\"::\", \n",
    "    engine=\"python\",  # Needed because \"::\" is multi-character separator\n",
    "    header=None,      # No header row in file\n",
    "    names=[\"movieId\", \"title\", \"genres\"],  # Assign column names\n",
    "    encoding=\"latin-1\" \n",
    ")\n",
    "\n",
    "print(movies.head())"
   ]
  },
  {
   "cell_type": "code",
   "execution_count": 240,
   "id": "8e3b16fd-8071-4ce9-972d-c22e98d86e83",
   "metadata": {},
   "outputs": [],
   "source": [
    "def get_movie_titles(top_ids_original):\n",
    "    for movie_id in top_ids_original:\n",
    "        #filter the dataframe from this movieID\n",
    "        row = movies[movies['movieId']==movie_id]\n",
    "\n",
    "        #get the title value and append to the list\n",
    "        title = row['title'].values[0]\n",
    "        print(title)\n",
    "    return \"Happy Watching! :)\"\n",
    "    "
   ]
  },
  {
   "cell_type": "code",
   "execution_count": 241,
   "id": "5649b6e2-3004-4336-a674-debfe362dae5",
   "metadata": {},
   "outputs": [
    {
     "name": "stdout",
     "output_type": "stream",
     "text": [
      "Wrong Trousers, The (1993)\n",
      "Sanjuro (1962)\n",
      "Seven Samurai (The Magnificent Seven) (Shichinin no samurai) (1954)\n",
      "Close Shave, A (1995)\n",
      "Double Indemnity (1944)\n",
      "Godfather, The (1972)\n",
      "Dersu Uzala (1974)\n",
      "Cinema Paradiso (1988)\n",
      "Shawshank Redemption, The (1994)\n",
      "Rear Window (1954)\n",
      "Happy Watching! :)\n"
     ]
    }
   ],
   "source": [
    "print(get_movie_titles(top_ids_original))"
   ]
  },
  {
   "cell_type": "code",
   "execution_count": 242,
   "id": "ee811ba6-a1b3-4f6e-99d8-f6a7536aad99",
   "metadata": {},
   "outputs": [
    {
     "name": "stdout",
     "output_type": "stream",
     "text": [
      "Looking in indexes: https://download.pytorch.org/whl/cpu\n",
      "Requirement already satisfied: torch in c:\\users\\neelh\\anaconda\\envs\\recsys\\lib\\site-packages (2.8.0+cpu)\n",
      "Requirement already satisfied: torchvision in c:\\users\\neelh\\anaconda\\envs\\recsys\\lib\\site-packages (0.23.0+cpu)\n",
      "Requirement already satisfied: torchaudio in c:\\users\\neelh\\anaconda\\envs\\recsys\\lib\\site-packages (2.8.0+cpu)\n",
      "Requirement already satisfied: filelock in c:\\users\\neelh\\anaconda\\envs\\recsys\\lib\\site-packages (from torch) (3.13.1)\n",
      "Requirement already satisfied: typing-extensions>=4.10.0 in c:\\users\\neelh\\anaconda\\envs\\recsys\\lib\\site-packages (from torch) (4.12.2)\n",
      "Requirement already satisfied: sympy>=1.13.3 in c:\\users\\neelh\\anaconda\\envs\\recsys\\lib\\site-packages (from torch) (1.13.3)\n",
      "Requirement already satisfied: networkx in c:\\users\\neelh\\anaconda\\envs\\recsys\\lib\\site-packages (from torch) (3.3)\n",
      "Requirement already satisfied: jinja2 in c:\\users\\neelh\\anaconda\\envs\\recsys\\lib\\site-packages (from torch) (3.1.6)\n",
      "Requirement already satisfied: fsspec in c:\\users\\neelh\\anaconda\\envs\\recsys\\lib\\site-packages (from torch) (2024.6.1)\n",
      "Requirement already satisfied: numpy in c:\\users\\neelh\\anaconda\\envs\\recsys\\lib\\site-packages (from torchvision) (1.24.4)\n",
      "Requirement already satisfied: pillow!=8.3.*,>=5.3.0 in c:\\users\\neelh\\anaconda\\envs\\recsys\\lib\\site-packages (from torchvision) (11.1.0)\n",
      "Requirement already satisfied: mpmath<1.4,>=1.1.0 in c:\\users\\neelh\\anaconda\\envs\\recsys\\lib\\site-packages (from sympy>=1.13.3->torch) (1.3.0)\n",
      "Requirement already satisfied: MarkupSafe>=2.0 in c:\\users\\neelh\\anaconda\\envs\\recsys\\lib\\site-packages (from jinja2->torch) (3.0.2)\n"
     ]
    }
   ],
   "source": [
    "#!{sys.executable} -m pip install torch torchvision torchaudio --index-url https://download.pytorch.org/whl/cpu"
   ]
  },
  {
   "cell_type": "code",
   "execution_count": 258,
   "id": "fc2ea6ef-e3bd-46b4-a58e-b9793b88e1e6",
   "metadata": {},
   "outputs": [
    {
     "name": "stdout",
     "output_type": "stream",
     "text": [
      "✅ Model, mappings, and metadata saved in /model folder\n"
     ]
    }
   ],
   "source": [
    "import os, pickle\n",
    "\n",
    "# Ensure model folder exists\n",
    "os.makedirs(\"model\", exist_ok=True)\n",
    "\n",
    "# Save user & movie mappings\n",
    "with open(\"model/user2id.pkl\", \"wb\") as f:\n",
    "    pickle.dump(user_id_map, f)\n",
    "\n",
    "with open(\"model/id2user.pkl\", \"wb\") as f:\n",
    "    pickle.dump(idx2user, f)\n",
    "\n",
    "with open(\"model/movie2id.pkl\", \"wb\") as f:\n",
    "    pickle.dump(item_id_map, f)\n",
    "\n",
    "with open(\"model/id2movie.pkl\", \"wb\") as f:\n",
    "    pickle.dump(idx2item, f)\n",
    "\n",
    "# Save the entire model\n",
    "model.save(\"model/ncf_model.h5\")\n",
    "\n",
    "# Save movies metadata for frontend use\n",
    "movies_df = pd.read_csv(\n",
    "    \"C:/Users/neelh/Jupyter Related/NeuMFRec/movies.dat\",\n",
    "    sep=\"::\",\n",
    "    engine=\"python\",\n",
    "    encoding=\"ISO-8859-1\",\n",
    "    names=[\"movieId\", \"title\", \"genres\"]\n",
    ")\n",
    "\n",
    "print(\"✅ Model, mappings, and metadata saved in /model folder\")"
   ]
  },
  {
   "cell_type": "code",
   "execution_count": null,
   "id": "254d6cda-5302-42c0-9f02-cb2120af879a",
   "metadata": {},
   "outputs": [],
   "source": [
    "!which python"
   ]
  },
  {
   "cell_type": "code",
   "execution_count": null,
   "id": "be07a778-50c8-47d7-ad2c-55c75fc9c700",
   "metadata": {},
   "outputs": [],
   "source": [
    "!where python"
   ]
  },
  {
   "cell_type": "code",
   "execution_count": null,
   "id": "dae51366-d940-4af3-aa6d-c4e8e2f5419b",
   "metadata": {},
   "outputs": [],
   "source": [
    "import sys\n",
    "print(sys.executable)"
   ]
  },
  {
   "cell_type": "code",
   "execution_count": null,
   "id": "41e10612-c3ee-498d-a2d0-23d373e6896f",
   "metadata": {},
   "outputs": [],
   "source": []
  }
 ],
 "metadata": {
  "kernelspec": {
   "display_name": "Python (recsys)",
   "language": "python",
   "name": "recsys"
  },
  "language_info": {
   "codemirror_mode": {
    "name": "ipython",
    "version": 3
   },
   "file_extension": ".py",
   "mimetype": "text/x-python",
   "name": "python",
   "nbconvert_exporter": "python",
   "pygments_lexer": "ipython3",
   "version": "3.10.13"
  }
 },
 "nbformat": 4,
 "nbformat_minor": 5
}
